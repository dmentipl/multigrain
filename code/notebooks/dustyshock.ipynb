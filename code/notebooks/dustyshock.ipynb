{
 "cells": [
  {
   "cell_type": "markdown",
   "metadata": {},
   "source": [
    "# Dusty shock analysis\n",
    "\n",
    "This notebook contains analysis of the dusty shock test for multigrain dust."
   ]
  },
  {
   "cell_type": "code",
   "execution_count": null,
   "metadata": {},
   "outputs": [],
   "source": [
    "import importlib\n",
    "import pathlib\n",
    "from pathlib import Path\n",
    "from typing import Any, Dict, List, Tuple"
   ]
  },
  {
   "cell_type": "code",
   "execution_count": null,
   "metadata": {},
   "outputs": [],
   "source": [
    "import numpy as np\n",
    "import pandas as pd\n",
    "import plonk\n",
    "from bokeh.io import output_notebook, show\n",
    "from bokeh.layouts import gridplot, row\n",
    "from bokeh.palettes import Category10, inferno\n",
    "from bokeh.plotting import figure\n",
    "output_notebook()"
   ]
  },
  {
   "cell_type": "markdown",
   "metadata": {},
   "source": [
    "## Path to data"
   ]
  },
  {
   "cell_type": "code",
   "execution_count": null,
   "metadata": {},
   "outputs": [],
   "source": [
    "root_directory = pathlib.Path('~/runs/multigrain/dustyshock').expanduser()\n",
    "paths = sorted(list(root_directory.glob('*')))"
   ]
  },
  {
   "cell_type": "markdown",
   "metadata": {},
   "source": [
    "## Show velocity and density\n",
    "\n",
    "Show the velocity and density as a function of position."
   ]
  },
  {
   "cell_type": "code",
   "execution_count": null,
   "metadata": {},
   "outputs": [],
   "source": [
    "sim = plonk.load_sim('dustyshock', directory=paths[0])\n",
    "snaps = sim.snaps[::20]\n",
    "\n",
    "for dust_type in range(2):\n",
    "\n",
    "    # Plot range\n",
    "    x_range = (-20, 50)\n",
    "    vx_range = (-1, 4)\n",
    "    rho_range = (0, 25)\n",
    "    \n",
    "    # Generate figures\n",
    "    fig1 = figure(x_range=x_range, y_range=vx_range, plot_width=400, plot_height=400)\n",
    "    fig2 = figure(x_range=x_range, y_range=rho_range, plot_width=400, plot_height=400)\n",
    "\n",
    "    for snap, color in zip(snaps, inferno(len(snaps))):\n",
    "        subsnap = snap[snap['dust_type'] == dust_type]\n",
    "        fig1.scatter(\n",
    "            subsnap[\"x\"], subsnap[\"vx\"], line_color=color, fill_color=color, size=5\n",
    "        )\n",
    "        fig2.scatter(\n",
    "            subsnap[\"x\"], subsnap[\"rho\"], line_color=color, fill_color=color, size=5\n",
    "        )\n",
    "\n",
    "    show(row(fig1, fig2))"
   ]
  },
  {
   "cell_type": "markdown",
   "metadata": {},
   "source": [
    "## Show particles\n",
    "\n",
    "Show particle positions in xy-plane."
   ]
  },
  {
   "cell_type": "code",
   "execution_count": null,
   "metadata": {},
   "outputs": [],
   "source": [
    "sim = plonk.load_sim('dustyshock', directory=paths[0])\n",
    "\n",
    "# Initial and final snap\n",
    "snaps = [sim.snaps[0], sim.snaps[-1]]\n",
    "titles = ['Initial', 'Final']\n",
    "\n",
    "# Plot range\n",
    "x_range = (-10, 20)\n",
    "y_range = (-3, 3)\n",
    "\n",
    "# Figure window\n",
    "ratio = (x_range[1] - x_range[0]) / (y_range[1] - y_range[0])\n",
    "height = 150\n",
    "\n",
    "for snap, title in zip(snaps, titles):\n",
    "    subsnap = snap['gas']\n",
    "    fig = figure(x_range=x_range, y_range=y_range, plot_width=int(ratio*height), plot_height=height, title=title)\n",
    "    fig.scatter(\n",
    "        subsnap[\"x\"], subsnap[\"y\"], line_color='black', fill_color='black', size=3\n",
    "    )\n",
    "    show(fig)"
   ]
  }
 ],
 "metadata": {
  "kernelspec": {
   "display_name": "Python 3",
   "language": "python",
   "name": "python3"
  },
  "language_info": {
   "codemirror_mode": {
    "name": "ipython",
    "version": 3
   },
   "file_extension": ".py",
   "mimetype": "text/x-python",
   "name": "python",
   "nbconvert_exporter": "python",
   "pygments_lexer": "ipython3",
   "version": "3.7.3"
  }
 },
 "nbformat": 4,
 "nbformat_minor": 4
}
