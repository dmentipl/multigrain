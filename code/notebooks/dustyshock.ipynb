{
 "cells": [
  {
   "cell_type": "markdown",
   "metadata": {},
   "source": [
    "# Dusty shock\n",
    "\n",
    "This notebook contains analysis of the dusty shock test for multigrain dust."
   ]
  },
  {
   "cell_type": "markdown",
   "metadata": {},
   "source": [
    "## Imports"
   ]
  },
  {
   "cell_type": "code",
   "execution_count": null,
   "metadata": {},
   "outputs": [],
   "source": [
    "%load_ext autoreload\n",
    "%autoreload 2\n",
    "\n",
    "import sys\n",
    "from pathlib import Path\n",
    "\n",
    "%matplotlib widget\n",
    "import matplotlib.pyplot as plt\n",
    "from IPython.core.display import display, HTML\n",
    "\n",
    "import plonk\n",
    "\n",
    "sys.path.insert(0, '../modules')\n",
    "from multigrain.dustyshock import last_snap, plot_numerical_vs_exact, plot_particle_arrangement"
   ]
  },
  {
   "cell_type": "markdown",
   "metadata": {},
   "source": [
    "## Get data\n",
    "\n",
    "Get the paths to each numerical experiment."
   ]
  },
  {
   "cell_type": "code",
   "execution_count": null,
   "metadata": {},
   "outputs": [],
   "source": [
    "_paths = Path('~/runs/multigrain/dustyshock').expanduser().glob('N_1-nx_*-smooth_fac_*-hfact_*')\n",
    "paths1 = {p.name: p for p in _paths}\n",
    "_paths = Path('~/runs/multigrain/dustyshock2').expanduser().glob('N_3-nx_*-smooth_fac_*-hfact_*')\n",
    "paths2 = {p.name: p for p in _paths}\n",
    "paths = {**paths1, **paths2}"
   ]
  },
  {
   "cell_type": "markdown",
   "metadata": {},
   "source": [
    "Create a dictionary of Plonk Simulation objects."
   ]
  },
  {
   "cell_type": "code",
   "execution_count": null,
   "metadata": {},
   "outputs": [],
   "source": [
    "sims_all = {name: plonk.load_sim('dustyshock', directory=path) for name, path in paths.items()}"
   ]
  },
  {
   "cell_type": "markdown",
   "metadata": {},
   "source": [
    "## One dust species\n",
    "\n",
    "First we look at simulations with a single dust species."
   ]
  },
  {
   "cell_type": "code",
   "execution_count": null,
   "metadata": {},
   "outputs": [],
   "source": [
    "N = 1\n",
    "drag_coefficients = [1.0]"
   ]
  },
  {
   "cell_type": "markdown",
   "metadata": {},
   "source": [
    "### Compare neighbour number\n",
    "\n",
    "Check the effect of the number of neighbours. With resolution `nx=128` and smoothing factor `smooth_fac=2.0`."
   ]
  },
  {
   "cell_type": "code",
   "execution_count": null,
   "metadata": {},
   "outputs": [],
   "source": [
    "hfacts = [1.0, 1.2, 1.5]\n",
    "nx = 128\n",
    "smooth_fac = 2\n",
    "xrange = (-5, 15)\n",
    "x_shock = [-2.1, -2.1, -2.1]"
   ]
  },
  {
   "cell_type": "code",
   "execution_count": null,
   "metadata": {},
   "outputs": [],
   "source": [
    "sim_names = [f'N_{N}-nx_{nx}-smooth_fac_{smooth_fac}-hfact_{hfact}' for hfact in hfacts]\n",
    "snaps = [last_snap(paths[name]) for name in sim_names]"
   ]
  },
  {
   "cell_type": "markdown",
   "metadata": {},
   "source": [
    "Plot the x-velocity and density for the gas and each dust species at the final timestep."
   ]
  },
  {
   "cell_type": "code",
   "execution_count": null,
   "metadata": {},
   "outputs": [],
   "source": [
    "plot_numerical_vs_exact(\n",
    "    snaps=snaps,\n",
    "    xrange=xrange,\n",
    "    drag_coefficients=drag_coefficients,\n",
    "    x_shock=x_shock,\n",
    "    labels={'hfact': hfacts},\n",
    ")"
   ]
  },
  {
   "cell_type": "markdown",
   "metadata": {},
   "source": [
    "### Compare resolution\n",
    "\n",
    "Check the effect of resolution. With neighbour number set by `hfact=1.5` and smoothing factor `smooth_fac=2.0`."
   ]
  },
  {
   "cell_type": "code",
   "execution_count": null,
   "metadata": {},
   "outputs": [],
   "source": [
    "nxs = [32, 128]\n",
    "smooth_fac = 2\n",
    "hfact = 1.5\n",
    "xrange = (-15, 15)\n",
    "x_shock = [-5.2, -2.1]"
   ]
  },
  {
   "cell_type": "code",
   "execution_count": null,
   "metadata": {},
   "outputs": [],
   "source": [
    "sim_names = [f'N_{N}-nx_{nx}-smooth_fac_{smooth_fac}-hfact_{hfact}' for nx in nxs]\n",
    "snaps = [last_snap(paths[name]) for name in sim_names]"
   ]
  },
  {
   "cell_type": "markdown",
   "metadata": {},
   "source": [
    "Plot the x-velocity and density for the gas and each dust species at the final timestep."
   ]
  },
  {
   "cell_type": "code",
   "execution_count": null,
   "metadata": {},
   "outputs": [],
   "source": [
    "plot_numerical_vs_exact(\n",
    "    snaps=snaps,\n",
    "    xrange=xrange,\n",
    "    drag_coefficients=drag_coefficients,\n",
    "    x_shock=x_shock,\n",
    "    labels={'nx': nxs},\n",
    ")"
   ]
  },
  {
   "cell_type": "markdown",
   "metadata": {},
   "source": [
    "### Compare initial conditions smoothing\n",
    "\n",
    "Set `nx=128` and `hfact=1.5`."
   ]
  },
  {
   "cell_type": "code",
   "execution_count": null,
   "metadata": {},
   "outputs": [],
   "source": [
    "smooth_facs = [2, 5]\n",
    "hfact = 1.5\n",
    "nx = 128\n",
    "xrange = (-10, 15)\n",
    "x_shock = [-2.1, -3.1]"
   ]
  },
  {
   "cell_type": "code",
   "execution_count": null,
   "metadata": {},
   "outputs": [],
   "source": [
    "sim_names = [f'N_{N}-nx_{nx}-smooth_fac_{smooth_fac}-hfact_{hfact}' for smooth_fac in smooth_facs]\n",
    "snaps = [last_snap(paths[name]) for name in sim_names]"
   ]
  },
  {
   "cell_type": "markdown",
   "metadata": {},
   "source": [
    "Plot the x-velocity and density for the gas and each dust species at the final timestep."
   ]
  },
  {
   "cell_type": "code",
   "execution_count": null,
   "metadata": {},
   "outputs": [],
   "source": [
    "plot_numerical_vs_exact(\n",
    "    snaps=snaps,\n",
    "    xrange=xrange,\n",
    "    drag_coefficients=drag_coefficients,\n",
    "    x_shock=x_shock,\n",
    "    labels={'smooth_fac': smooth_facs},\n",
    ")"
   ]
  },
  {
   "cell_type": "markdown",
   "metadata": {},
   "source": [
    "## Three dust species\n",
    "\n",
    "Now we look at simulations with three dust species."
   ]
  },
  {
   "cell_type": "code",
   "execution_count": null,
   "metadata": {},
   "outputs": [],
   "source": [
    "N = 3\n",
    "drag_coefficients = [1.0, 3.0, 5.0]"
   ]
  },
  {
   "cell_type": "markdown",
   "metadata": {},
   "source": [
    "### Compare neighbour number\n",
    "\n",
    "Check the effect of the number of neighbours. With resolution `nx=128` and smoothing factor `smooth_fac=2.0`."
   ]
  },
  {
   "cell_type": "code",
   "execution_count": null,
   "metadata": {},
   "outputs": [],
   "source": [
    "hfacts = [1.0, 1.2, 1.5]\n",
    "nx = 128\n",
    "smooth_fac = 2.0\n",
    "xrange = (-5, 15)\n",
    "x_shock = [-2.1, -2.1, -2.1]"
   ]
  },
  {
   "cell_type": "code",
   "execution_count": null,
   "metadata": {},
   "outputs": [],
   "source": [
    "sim_names = [f'N_{N}-nx_{nx}-smooth_fac_{smooth_fac}-hfact_{hfact}' for hfact in hfacts]\n",
    "snaps = [last_snap(paths[name]) for name in sim_names]"
   ]
  },
  {
   "cell_type": "markdown",
   "metadata": {},
   "source": [
    "Plot the x-velocity and density for the gas and each dust species at the final timestep."
   ]
  },
  {
   "cell_type": "code",
   "execution_count": null,
   "metadata": {},
   "outputs": [],
   "source": [
    "plot_numerical_vs_exact(\n",
    "    snaps=snaps,\n",
    "    xrange=xrange,\n",
    "    drag_coefficients=drag_coefficients,\n",
    "    x_shock=x_shock,\n",
    "    labels={'hfact': hfacts},\n",
    ")"
   ]
  },
  {
   "cell_type": "markdown",
   "metadata": {},
   "source": [
    "### Compare resolution\n",
    "\n",
    "Check the effect of resolution. With neighbour number set by `hfact=1.5` and smoothing factor `smooth_fac=2.0`."
   ]
  },
  {
   "cell_type": "code",
   "execution_count": null,
   "metadata": {},
   "outputs": [],
   "source": [
    "nxs = [32, 128]\n",
    "smooth_fac = 2.0\n",
    "hfact = 1.5\n",
    "xrange = (-15, 15)\n",
    "x_shock = [-5.2, -2.1]"
   ]
  },
  {
   "cell_type": "code",
   "execution_count": null,
   "metadata": {},
   "outputs": [],
   "source": [
    "sim_names = [f'N_{N}-nx_{nx}-smooth_fac_{smooth_fac}-hfact_{hfact}' for nx in nxs]\n",
    "snaps = [last_snap(paths[name]) for name in sim_names]"
   ]
  },
  {
   "cell_type": "markdown",
   "metadata": {},
   "source": [
    "Plot the x-velocity and density for the gas and each dust species at the final timestep."
   ]
  },
  {
   "cell_type": "code",
   "execution_count": null,
   "metadata": {},
   "outputs": [],
   "source": [
    "plot_numerical_vs_exact(\n",
    "    snaps=snaps,\n",
    "    xrange=xrange,\n",
    "    drag_coefficients=drag_coefficients,\n",
    "    x_shock=x_shock,\n",
    "    labels={'nx': nxs},\n",
    ")"
   ]
  },
  {
   "cell_type": "markdown",
   "metadata": {},
   "source": [
    "### Compare initial conditions smoothing\n",
    "\n",
    "Set `nx=128` and `hfact=1.5`."
   ]
  },
  {
   "cell_type": "code",
   "execution_count": null,
   "metadata": {},
   "outputs": [],
   "source": [
    "smooth_facs = [2.0, 5.0]\n",
    "hfact = 1.5\n",
    "nx = 128\n",
    "xrange = (-10, 15)\n",
    "x_shock = [-2.1, -3.1]"
   ]
  },
  {
   "cell_type": "code",
   "execution_count": null,
   "metadata": {},
   "outputs": [],
   "source": [
    "sim_names = [f'N_{N}-nx_{nx}-smooth_fac_{smooth_fac}-hfact_{hfact}' for smooth_fac in smooth_facs]\n",
    "snaps = [last_snap(paths[name]) for name in sim_names]"
   ]
  },
  {
   "cell_type": "markdown",
   "metadata": {},
   "source": [
    "Plot the x-velocity and density for the gas and each dust species at the final timestep."
   ]
  },
  {
   "cell_type": "code",
   "execution_count": null,
   "metadata": {},
   "outputs": [],
   "source": [
    "plot_numerical_vs_exact(\n",
    "    snaps=snaps,\n",
    "    xrange=xrange,\n",
    "    drag_coefficients=drag_coefficients,\n",
    "    x_shock=x_shock,\n",
    "    labels={'smooth_fac': smooth_facs},\n",
    ")"
   ]
  },
  {
   "cell_type": "markdown",
   "metadata": {},
   "source": [
    "## Show particles\n",
    "\n",
    "Show particle positions in xy- and xz-planes."
   ]
  },
  {
   "cell_type": "code",
   "execution_count": null,
   "metadata": {},
   "outputs": [],
   "source": [
    "snaps = sims_all['N_1-nx_32-smooth_fac_2-hfact_1.0'].snaps\n",
    "xrange = (-1000, 1000)\n",
    "\n",
    "init_snap = snaps[0]\n",
    "final_snap = snaps[-1]"
   ]
  },
  {
   "cell_type": "markdown",
   "metadata": {},
   "source": [
    "### Initial condition xy"
   ]
  },
  {
   "cell_type": "code",
   "execution_count": null,
   "metadata": {},
   "outputs": [],
   "source": [
    "fig = plot_particle_arrangement(\n",
    "    snap=init_snap, y='y', xrange=xrange, fig_kwargs={'height': 2}, plot_kwargs={'ms': 1}\n",
    ")"
   ]
  },
  {
   "cell_type": "markdown",
   "metadata": {},
   "source": [
    "### Initial condition xz"
   ]
  },
  {
   "cell_type": "code",
   "execution_count": null,
   "metadata": {},
   "outputs": [],
   "source": [
    "fig = plot_particle_arrangement(\n",
    "    snap=init_snap, y='z', xrange=xrange, fig_kwargs={'height': 2}, plot_kwargs={'ms': 1}\n",
    ")"
   ]
  },
  {
   "cell_type": "markdown",
   "metadata": {},
   "source": [
    "### Final condition xy"
   ]
  },
  {
   "cell_type": "code",
   "execution_count": null,
   "metadata": {},
   "outputs": [],
   "source": [
    "fig = plot_particle_arrangement(\n",
    "    snap=final_snap, y='y', xrange=xrange, fig_kwargs={'height': 2}, plot_kwargs={'ms': 1}\n",
    ")"
   ]
  },
  {
   "cell_type": "markdown",
   "metadata": {},
   "source": [
    "### Final condition xz"
   ]
  },
  {
   "cell_type": "code",
   "execution_count": null,
   "metadata": {},
   "outputs": [],
   "source": [
    "fig = plot_particle_arrangement(\n",
    "    snap=final_snap, y='z', xrange=xrange, fig_kwargs={'height': 2}, plot_kwargs={'ms': 1}\n",
    ")"
   ]
  }
 ],
 "metadata": {
  "kernelspec": {
   "display_name": "Python 3",
   "language": "python",
   "name": "python3"
  },
  "language_info": {
   "codemirror_mode": {
    "name": "ipython",
    "version": 3
   },
   "file_extension": ".py",
   "mimetype": "text/x-python",
   "name": "python",
   "nbconvert_exporter": "python",
   "pygments_lexer": "ipython3",
   "version": "3.7.6"
  }
 },
 "nbformat": 4,
 "nbformat_minor": 4
}