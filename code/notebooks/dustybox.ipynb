{
 "cells": [
  {
   "cell_type": "markdown",
   "metadata": {},
   "source": [
    "# Dusty box analysis\n",
    "\n",
    "This notebook contains analysis of the dusty box test for multigrain dust."
   ]
  },
  {
   "cell_type": "markdown",
   "metadata": {},
   "source": [
    "## Imports"
   ]
  },
  {
   "cell_type": "code",
   "execution_count": null,
   "metadata": {},
   "outputs": [],
   "source": [
    "import importlib\n",
    "import pathlib\n",
    "from pathlib import Path\n",
    "from typing import Any, Dict, List, Tuple"
   ]
  },
  {
   "cell_type": "code",
   "execution_count": null,
   "metadata": {},
   "outputs": [],
   "source": [
    "import numpy as np\n",
    "import pandas as pd\n",
    "import plonk\n",
    "from bokeh.io import output_notebook, show\n",
    "from bokeh.layouts import gridplot\n",
    "from bokeh.palettes import all_palettes\n",
    "from bokeh.plotting import figure\n",
    "output_notebook()"
   ]
  },
  {
   "cell_type": "markdown",
   "metadata": {},
   "source": [
    "## Functions\n",
    "\n",
    "Load dustybox analysis functions:\n",
    "- `generate_results`: to perform the analysis"
   ]
  },
  {
   "cell_type": "code",
   "execution_count": null,
   "metadata": {},
   "outputs": [],
   "source": [
    "loader = importlib.machinery.SourceFileLoader('dustybox', '../modules/dustybox/analysis.py')\n",
    "dustybox = loader.load_module()"
   ]
  },
  {
   "cell_type": "markdown",
   "metadata": {},
   "source": [
    "## Path to data"
   ]
  },
  {
   "cell_type": "code",
   "execution_count": null,
   "metadata": {},
   "outputs": [],
   "source": [
    "root_directory = pathlib.Path('~/runs/multigrain/dustybox').expanduser()\n",
    "paths = sorted(list(root_directory.glob('*')))"
   ]
  },
  {
   "cell_type": "markdown",
   "metadata": {},
   "source": [
    "## Perform analysis"
   ]
  },
  {
   "cell_type": "code",
   "execution_count": null,
   "metadata": {},
   "outputs": [],
   "source": [
    "dataframes = dict()\n",
    "\n",
    "for p in paths:\n",
    "    sim = plonk.load_sim(prefix='dustybox', directory=p)\n",
    "    name = '-'.join(sim.path.name.split('=')[-1].split('-')[::-1])\n",
    "    print(f'Running analysis on {name}')\n",
    "    dataframes[name] = dustybox.generate_results(sim)\n",
    "    del sim"
   ]
  },
  {
   "cell_type": "markdown",
   "metadata": {},
   "source": [
    "Inspect one data frame:"
   ]
  },
  {
   "cell_type": "code",
   "execution_count": null,
   "metadata": {},
   "outputs": [],
   "source": [
    "dataframes['MRN-0.01']"
   ]
  },
  {
   "cell_type": "markdown",
   "metadata": {},
   "source": [
    "## Plot results"
   ]
  },
  {
   "cell_type": "markdown",
   "metadata": {},
   "source": [
    "Define function to plot results from one simulation."
   ]
  },
  {
   "cell_type": "code",
   "execution_count": null,
   "metadata": {},
   "outputs": [],
   "source": [
    "def plot(name, df):\n",
    "    \"\"\"Plot one simulation.\"\"\"\n",
    "    n_dust = int((len(df.columns) - 1) / 3)\n",
    "    palette = all_palettes['Viridis'][n_dust]\n",
    "\n",
    "    x = [df['time'] for col in df.columns if col.startswith('data')]\n",
    "    y_data = [df[col] for col in df.columns if col.startswith('data')]\n",
    "    y_exact1 = [df[col] for col in df.columns if col.startswith('exact1')]\n",
    "    y_exact2 = [df[col] for col in df.columns if col.startswith('exact2')]\n",
    "\n",
    "    fig = figure(title=name)\n",
    "    fig.multi_line(x, y_exact1, line_dash='solid', line_color=palette, line_width=2)\n",
    "    fig.multi_line(x, y_exact2, line_dash=[10, 10], line_color=palette, line_width=2)\n",
    "    for xx, yy, color in zip(x, y_data, palette):\n",
    "        fig.scatter(xx, yy, line_color=color, fill_color=None, size=6)\n",
    "\n",
    "    return fig"
   ]
  },
  {
   "cell_type": "markdown",
   "metadata": {},
   "source": [
    "Plot all simulation results."
   ]
  },
  {
   "cell_type": "code",
   "execution_count": null,
   "metadata": {},
   "outputs": [],
   "source": [
    "ncols = 2\n",
    "figs = list()\n",
    "\n",
    "for name, df in dataframes.items():\n",
    "    fig = plot(name, df)\n",
    "    figs.append(fig)\n",
    "    \n",
    "p = gridplot(figs, ncols=ncols, sizing_mode='stretch_width', plot_height=300)\n",
    "show(p)"
   ]
  }
 ],
 "metadata": {
  "kernelspec": {
   "display_name": "Python 3",
   "language": "python",
   "name": "python3"
  },
  "language_info": {
   "codemirror_mode": {
    "name": "ipython",
    "version": 3
   },
   "file_extension": ".py",
   "mimetype": "text/x-python",
   "name": "python",
   "nbconvert_exporter": "python",
   "pygments_lexer": "ipython3",
   "version": "3.7.3"
  }
 },
 "nbformat": 4,
 "nbformat_minor": 4
}
