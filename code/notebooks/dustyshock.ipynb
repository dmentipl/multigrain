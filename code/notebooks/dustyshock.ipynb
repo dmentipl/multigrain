{
 "cells": [
  {
   "cell_type": "markdown",
   "metadata": {},
   "source": [
    "# Dusty shock\n",
    "\n",
    "This notebook contains analysis of the dusty shock test for multigrain dust."
   ]
  },
  {
   "cell_type": "code",
   "execution_count": null,
   "metadata": {},
   "outputs": [],
   "source": [
    "import pathlib\n",
    "import sys"
   ]
  },
  {
   "cell_type": "code",
   "execution_count": null,
   "metadata": {},
   "outputs": [],
   "source": [
    "%matplotlib widget\n",
    "import matplotlib.pyplot as plt\n",
    "import plonk\n",
    "from IPython.core.display import display, HTML"
   ]
  },
  {
   "cell_type": "code",
   "execution_count": null,
   "metadata": {},
   "outputs": [],
   "source": [
    "sys.path.insert(0, '../modules')\n",
    "from multigrain import dustyshock"
   ]
  },
  {
   "cell_type": "code",
   "execution_count": null,
   "metadata": {},
   "outputs": [],
   "source": [
    "def big_print(string, n=4):\n",
    "    display(HTML(f'<h{n}>{string}</h{n}>'))"
   ]
  },
  {
   "cell_type": "markdown",
   "metadata": {},
   "source": [
    "## Path to data\n",
    "\n",
    "Get the paths to each numerical experiment."
   ]
  },
  {
   "cell_type": "code",
   "execution_count": null,
   "metadata": {},
   "outputs": [],
   "source": [
    "root_directory = pathlib.Path('~/runs/multigrain/dustyshock').expanduser()\n",
    "_paths = sorted(list(root_directory.glob('*')))\n",
    "paths = {p.name: p for p in _paths}\n",
    "paths"
   ]
  },
  {
   "cell_type": "markdown",
   "metadata": {},
   "source": [
    "## Show velocity and density\n",
    "\n",
    "Load simulation data for \"N=1\" and \"N=3\" simulations, i.e. gas with N dust species."
   ]
  },
  {
   "cell_type": "code",
   "execution_count": null,
   "metadata": {},
   "outputs": [],
   "source": [
    "sims = {name: plonk.load_sim('dustyshock', directory=paths[name]) for name in ['N=1_nx=8', 'N=1_nx=32']}\n",
    "sims"
   ]
  },
  {
   "cell_type": "markdown",
   "metadata": {},
   "source": [
    "Set x-range and number of bins."
   ]
  },
  {
   "cell_type": "code",
   "execution_count": null,
   "metadata": {},
   "outputs": [],
   "source": [
    "xrange = (-10, 30)\n",
    "n_bins = 50"
   ]
  },
  {
   "cell_type": "markdown",
   "metadata": {},
   "source": [
    "### Initial conditions\n",
    "\n",
    "Plot the x-velocity and density for the gas and each dust species."
   ]
  },
  {
   "cell_type": "code",
   "execution_count": null,
   "metadata": {},
   "outputs": [],
   "source": [
    "idx = 0\n",
    "snaps = [sim.snaps[idx] for sim in sims.values()]\n",
    "big_print(f'Initial: time = {snaps[0].properties[\"time\"]}')\n",
    "fig = dustyshock.plot_velocity_density(snaps=snaps, xrange=xrange, n_bins=n_bins)"
   ]
  },
  {
   "cell_type": "markdown",
   "metadata": {},
   "source": [
    "### Final time\n",
    "\n",
    "Plot the x-velocity and density for the gas and each dust species."
   ]
  },
  {
   "cell_type": "code",
   "execution_count": null,
   "metadata": {},
   "outputs": [],
   "source": [
    "idx = -1\n",
    "snaps = [sim.snaps[idx] for sim in sims.values()]\n",
    "big_print(f'Final: time = {snaps[0].properties[\"time\"]}')\n",
    "fig = dustyshock.plot_velocity_density(snaps=snaps, xrange=xrange, n_bins=n_bins)"
   ]
  },
  {
   "cell_type": "markdown",
   "metadata": {},
   "source": [
    "## Show particles\n",
    "\n",
    "Show particle positions in xy- and xz-planes."
   ]
  },
  {
   "cell_type": "code",
   "execution_count": null,
   "metadata": {},
   "outputs": [],
   "source": [
    "snaps = sims['N=1_nx=8'].snaps\n",
    "xrange = (-1000, 1000)\n",
    "\n",
    "init_snap = snaps[0]\n",
    "final_snap = snaps[-1]"
   ]
  },
  {
   "cell_type": "markdown",
   "metadata": {},
   "source": [
    "### Initial condition xy"
   ]
  },
  {
   "cell_type": "code",
   "execution_count": null,
   "metadata": {},
   "outputs": [],
   "source": [
    "fig = dustyshock.plot_particle_arrangement(\n",
    "    snap=init_snap, y='y', xrange=xrange, fig_kwargs={'height': 2}, plot_kwargs={'ms': 1}\n",
    ")"
   ]
  },
  {
   "cell_type": "markdown",
   "metadata": {},
   "source": [
    "### Initial condition xz"
   ]
  },
  {
   "cell_type": "code",
   "execution_count": null,
   "metadata": {},
   "outputs": [],
   "source": [
    "fig = dustyshock.plot_particle_arrangement(\n",
    "    snap=init_snap, y='z', xrange=xrange, fig_kwargs={'height': 2}, plot_kwargs={'ms': 1}\n",
    ")"
   ]
  },
  {
   "cell_type": "markdown",
   "metadata": {},
   "source": [
    "### Final condition xy"
   ]
  },
  {
   "cell_type": "code",
   "execution_count": null,
   "metadata": {},
   "outputs": [],
   "source": [
    "fig = dustyshock.plot_particle_arrangement(\n",
    "    snap=final_snap, y='y', xrange=xrange, fig_kwargs={'height': 2}, plot_kwargs={'ms': 1}\n",
    ")"
   ]
  },
  {
   "cell_type": "markdown",
   "metadata": {},
   "source": [
    "### Final condition xz"
   ]
  },
  {
   "cell_type": "code",
   "execution_count": null,
   "metadata": {},
   "outputs": [],
   "source": [
    "fig = dustyshock.plot_particle_arrangement(\n",
    "    snap=final_snap, y='z', xrange=xrange, fig_kwargs={'height': 2}, plot_kwargs={'ms': 1}\n",
    ")"
   ]
  }
 ],
 "metadata": {
  "kernelspec": {
   "display_name": "Python 3",
   "language": "python",
   "name": "python3"
  },
  "language_info": {
   "codemirror_mode": {
    "name": "ipython",
    "version": 3
   },
   "file_extension": ".py",
   "mimetype": "text/x-python",
   "name": "python",
   "nbconvert_exporter": "python",
   "pygments_lexer": "ipython3",
   "version": "3.7.6"
  }
 },
 "nbformat": 4,
 "nbformat_minor": 4
}
