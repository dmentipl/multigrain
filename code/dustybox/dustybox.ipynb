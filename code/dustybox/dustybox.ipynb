{
 "cells": [
  {
   "cell_type": "markdown",
   "metadata": {},
   "source": [
    "# Dusty box analysis\n",
    "\n",
    "This notebook contains analysis of the dusty box test for multigrain dust."
   ]
  },
  {
   "cell_type": "markdown",
   "metadata": {},
   "source": [
    "## Imports"
   ]
  },
  {
   "cell_type": "code",
   "execution_count": null,
   "metadata": {},
   "outputs": [],
   "source": [
    "import importlib\n",
    "import pathlib\n",
    "from pathlib import Path\n",
    "from typing import Any, Dict, List, Tuple\n",
    "\n",
    "import matplotlib.pyplot as plt\n",
    "import numpy as np\n",
    "import pandas as pd\n",
    "import plonk\n",
    "from numpy import ndarray\n",
    "from pandas import DataFrame\n",
    "from plonk import Simulation\n",
    "\n",
    "import exact_solutions"
   ]
  },
  {
   "cell_type": "markdown",
   "metadata": {},
   "source": [
    "## Functions\n",
    "\n",
    "Load dustybox analysis functions:\n",
    "- `load_data`: to generate Plonk Simulation objects\n",
    "- `generate_results`: to perform the analysis\n",
    "- `plot_results`: to plot the results"
   ]
  },
  {
   "cell_type": "code",
   "execution_count": null,
   "metadata": {},
   "outputs": [],
   "source": [
    "loader = importlib.machinery.SourceFileLoader('dustybox', 'analysis.py')\n",
    "dustybox = loader.load_module()"
   ]
  },
  {
   "cell_type": "markdown",
   "metadata": {},
   "source": [
    "## Load data"
   ]
  },
  {
   "cell_type": "code",
   "execution_count": null,
   "metadata": {},
   "outputs": [],
   "source": [
    "root_directory = pathlib.Path('~/runs/multigrain/dustybox').expanduser()\n",
    "sims = dustybox.load_data(root_directory)"
   ]
  },
  {
   "cell_type": "markdown",
   "metadata": {},
   "source": [
    "## Perform analysis"
   ]
  },
  {
   "cell_type": "code",
   "execution_count": null,
   "metadata": {},
   "outputs": [],
   "source": [
    "dataframes = dict()\n",
    "for sim in sims:\n",
    "    name = sim.path.name.split('=')[-1]\n",
    "    dataframes[name] = dustybox.generate_results(sim)"
   ]
  },
  {
   "cell_type": "markdown",
   "metadata": {},
   "source": [
    "## Plot results"
   ]
  },
  {
   "cell_type": "code",
   "execution_count": null,
   "metadata": {},
   "outputs": [],
   "source": [
    "ncols, nrows = 2, 2\n",
    "with plt.style.context('ggplot'):\n",
    "    fig, axes = plt.subplots(\n",
    "        ncols=ncols, nrows=nrows, sharex='all', sharey='all', figsize=(12, 12)\n",
    "    )\n",
    "    dustybox.plot_results(dataframes, fig, axes)"
   ]
  }
 ],
 "metadata": {
  "kernelspec": {
   "display_name": "Python 3",
   "language": "python",
   "name": "python3"
  },
  "language_info": {
   "codemirror_mode": {
    "name": "ipython",
    "version": 3
   },
   "file_extension": ".py",
   "mimetype": "text/x-python",
   "name": "python",
   "nbconvert_exporter": "python",
   "pygments_lexer": "ipython3",
   "version": "3.7.3"
  }
 },
 "nbformat": 4,
 "nbformat_minor": 4
}
