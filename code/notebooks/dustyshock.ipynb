{
 "cells": [
  {
   "cell_type": "markdown",
   "metadata": {},
   "source": [
    "# Dusty shock\n",
    "\n",
    "This notebook contains analysis of the dusty shock test for multigrain dust."
   ]
  },
  {
   "cell_type": "markdown",
   "metadata": {},
   "source": [
    "## Imports"
   ]
  },
  {
   "cell_type": "code",
   "execution_count": null,
   "metadata": {},
   "outputs": [],
   "source": [
    "%load_ext autoreload\n",
    "%autoreload 2\n",
    "\n",
    "import sys\n",
    "from pathlib import Path\n",
    "\n",
    "%matplotlib widget\n",
    "import matplotlib.pyplot as plt\n",
    "import numpy as np\n",
    "\n",
    "from IPython.display import Video\n",
    "\n",
    "import plonk\n",
    "\n",
    "sys.path.insert(0, '../modules')\n",
    "from multigrain.dustyshock import (\n",
    "    first_snap,\n",
    "    last_snap,\n",
    "    plot_numerical_vs_exact,\n",
    "    plot_particle_arrangement,\n",
    "    plot_velocity_density_error,\n",
    "    plot_velocity_error_convergence,\n",
    "    find_x_shock\n",
    ")"
   ]
  },
  {
   "cell_type": "markdown",
   "metadata": {},
   "source": [
    "## Get data\n",
    "\n",
    "Get the paths to each numerical experiment."
   ]
  },
  {
   "cell_type": "code",
   "execution_count": null,
   "metadata": {},
   "outputs": [],
   "source": [
    "_paths = Path('~/runs/multigrain/dustyshock').expanduser().glob('N_*-nx_*-smooth_fac_*-hfact_*')\n",
    "paths1 = {p.name: p for p in _paths}\n",
    "_paths = Path('~/runs/multigrain/dustyshock2').expanduser().glob('N_*-nx_*-smooth_fac_*-hfact_*')\n",
    "paths2 = {p.name: p for p in _paths}\n",
    "paths = {**paths1, **paths2}"
   ]
  },
  {
   "cell_type": "markdown",
   "metadata": {},
   "source": [
    "Create a dictionary of Plonk Simulation objects."
   ]
  },
  {
   "cell_type": "code",
   "execution_count": null,
   "metadata": {},
   "outputs": [],
   "source": [
    "sims_all = {name: plonk.load_sim('dustyshock', directory=path) for name, path in paths.items()}"
   ]
  },
  {
   "cell_type": "markdown",
   "metadata": {},
   "source": [
    "## One dust species\n",
    "\n",
    "First we look at simulations with a single dust species."
   ]
  },
  {
   "cell_type": "code",
   "execution_count": null,
   "metadata": {},
   "outputs": [],
   "source": [
    "N = 1\n",
    "drag_coefficients = [1.0]"
   ]
  },
  {
   "cell_type": "markdown",
   "metadata": {},
   "source": [
    "### Compare neighbour number\n",
    "\n",
    "Check the effect of the number of neighbours. With resolution `nx=128` and smoothing factor `smooth_fac=2.0`."
   ]
  },
  {
   "cell_type": "code",
   "execution_count": null,
   "metadata": {},
   "outputs": [],
   "source": [
    "hfacts = [1.0, 1.2, 1.5, 1.8]\n",
    "nx = 128\n",
    "smooth_fac = 2.0\n",
    "xrange = (-5, 15)\n",
    "#x_shock = [-2.1, -2.1, -2.1, -2.0]"
   ]
  },
  {
   "cell_type": "code",
   "execution_count": null,
   "metadata": {},
   "outputs": [],
   "source": [
    "sim_names = [f'N_{N}-nx_{nx}-smooth_fac_{smooth_fac}-hfact_{hfact}' for hfact in hfacts]\n",
    "snaps = [last_snap(paths[name]) for name in sim_names]"
   ]
  },
  {
   "cell_type": "markdown",
   "metadata": {},
   "source": [
    "Find shock x-position."
   ]
  },
  {
   "cell_type": "code",
   "execution_count": null,
   "metadata": {},
   "outputs": [],
   "source": [
    "x_shock = [find_x_shock(snap=snap, drag_coefficients=drag_coefficients, xrange=xrange) for snap in snaps]"
   ]
  },
  {
   "cell_type": "markdown",
   "metadata": {},
   "source": [
    "Plot the x-velocity and density for the gas and each dust species at the final timestep."
   ]
  },
  {
   "cell_type": "code",
   "execution_count": null,
   "metadata": {},
   "outputs": [],
   "source": [
    "plot_numerical_vs_exact(\n",
    "    snaps=snaps,\n",
    "    xrange=xrange,\n",
    "    drag_coefficients=drag_coefficients,\n",
    "    x_shock=x_shock,\n",
    "    labels={'hfact': hfacts},\n",
    "    plot_type='profile',\n",
    "    fig_kwargs={'width': 14.0},\n",
    ")"
   ]
  },
  {
   "cell_type": "markdown",
   "metadata": {},
   "source": [
    "### Compare resolution\n",
    "\n",
    "Check the effect of resolution. With neighbour number set by `hfact=1.5` and smoothing factor `smooth_fac=2.0`."
   ]
  },
  {
   "cell_type": "code",
   "execution_count": null,
   "metadata": {},
   "outputs": [],
   "source": [
    "nxs = [32, 64, 128, 256]\n",
    "smooth_fac = 2.0\n",
    "hfact = 1.5\n",
    "xrange = (-5, 15)\n",
    "#x_shock = [-5.2, -3.1, -2.2, -1.8]"
   ]
  },
  {
   "cell_type": "code",
   "execution_count": null,
   "metadata": {},
   "outputs": [],
   "source": [
    "sim_names = [f'N_{N}-nx_{nx}-smooth_fac_{smooth_fac}-hfact_{hfact}' for nx in nxs]\n",
    "snaps = [last_snap(paths[name]) for name in sim_names]"
   ]
  },
  {
   "cell_type": "markdown",
   "metadata": {},
   "source": [
    "Find shock x-position."
   ]
  },
  {
   "cell_type": "code",
   "execution_count": null,
   "metadata": {},
   "outputs": [],
   "source": [
    "x_shock = [find_x_shock(snap=snap, drag_coefficients=drag_coefficients, xrange=xrange) for snap in snaps]"
   ]
  },
  {
   "cell_type": "markdown",
   "metadata": {},
   "source": [
    "Plot the x-velocity and density for the gas and each dust species at the final timestep."
   ]
  },
  {
   "cell_type": "code",
   "execution_count": null,
   "metadata": {},
   "outputs": [],
   "source": [
    "plot_numerical_vs_exact(\n",
    "    snaps=snaps,\n",
    "    xrange=xrange,\n",
    "    drag_coefficients=drag_coefficients,\n",
    "    x_shock=x_shock,\n",
    "    labels={'nx': nxs},\n",
    "    plot_type='profile',\n",
    "    fig_kwargs={'width': 14.0},\n",
    ")"
   ]
  },
  {
   "cell_type": "markdown",
   "metadata": {},
   "source": [
    "### Compare initial conditions smoothing\n",
    "\n",
    "Set `nx=128` and `hfact=1.5`."
   ]
  },
  {
   "cell_type": "code",
   "execution_count": null,
   "metadata": {},
   "outputs": [],
   "source": [
    "smooth_facs = [2.0, 5.0]\n",
    "hfact = 1.5\n",
    "nx = 128\n",
    "xrange = (-5, 15)\n",
    "#x_shock = [-2.1, -3.1]"
   ]
  },
  {
   "cell_type": "code",
   "execution_count": null,
   "metadata": {},
   "outputs": [],
   "source": [
    "sim_names = [f'N_{N}-nx_{nx}-smooth_fac_{smooth_fac}-hfact_{hfact}' for smooth_fac in smooth_facs]\n",
    "snaps = [last_snap(paths[name]) for name in sim_names]"
   ]
  },
  {
   "cell_type": "markdown",
   "metadata": {},
   "source": [
    "Find shock x-position."
   ]
  },
  {
   "cell_type": "code",
   "execution_count": null,
   "metadata": {},
   "outputs": [],
   "source": [
    "x_shock = [find_x_shock(snap=snap, drag_coefficients=drag_coefficients, xrange=xrange) for snap in snaps]"
   ]
  },
  {
   "cell_type": "markdown",
   "metadata": {},
   "source": [
    "Plot the x-velocity and density for the gas and each dust species at the final timestep."
   ]
  },
  {
   "cell_type": "code",
   "execution_count": null,
   "metadata": {},
   "outputs": [],
   "source": [
    "plot_numerical_vs_exact(\n",
    "    snaps=snaps,\n",
    "    xrange=xrange,\n",
    "    drag_coefficients=drag_coefficients,\n",
    "    x_shock=x_shock,\n",
    "    labels={'smooth_fac': smooth_facs},\n",
    "    plot_type='profile',\n",
    ")"
   ]
  },
  {
   "cell_type": "markdown",
   "metadata": {},
   "source": [
    "## Three dust species\n",
    "\n",
    "Now we look at simulations with three dust species."
   ]
  },
  {
   "cell_type": "code",
   "execution_count": null,
   "metadata": {},
   "outputs": [],
   "source": [
    "N = 3\n",
    "drag_coefficients = [1.0, 3.0, 5.0]"
   ]
  },
  {
   "cell_type": "markdown",
   "metadata": {},
   "source": [
    "### Compare neighbour number\n",
    "\n",
    "Check the effect of the number of neighbours. With resolution `nx=128` and smoothing factor `smooth_fac=2.0`."
   ]
  },
  {
   "cell_type": "code",
   "execution_count": null,
   "metadata": {},
   "outputs": [],
   "source": [
    "hfacts = [1.0, 1.2, 1.5, 1.8]\n",
    "nx = 128\n",
    "smooth_fac = 2.0\n",
    "xrange = (-5, 15)\n",
    "#x_shock = [-1.7, -1.7, -1.6, -1.5]"
   ]
  },
  {
   "cell_type": "code",
   "execution_count": null,
   "metadata": {},
   "outputs": [],
   "source": [
    "sim_names = [f'N_{N}-nx_{nx}-smooth_fac_{smooth_fac}-hfact_{hfact}' for hfact in hfacts]\n",
    "snaps = [last_snap(paths[name]) for name in sim_names]"
   ]
  },
  {
   "cell_type": "markdown",
   "metadata": {},
   "source": [
    "Find shock x-position."
   ]
  },
  {
   "cell_type": "code",
   "execution_count": null,
   "metadata": {},
   "outputs": [],
   "source": [
    "x_shock = [find_x_shock(snap=snap, drag_coefficients=drag_coefficients, xrange=xrange) for snap in snaps]"
   ]
  },
  {
   "cell_type": "markdown",
   "metadata": {},
   "source": [
    "Plot the x-velocity and density for the gas and each dust species at the final timestep."
   ]
  },
  {
   "cell_type": "code",
   "execution_count": null,
   "metadata": {},
   "outputs": [],
   "source": [
    "plot_numerical_vs_exact(\n",
    "    snaps=snaps,\n",
    "    xrange=xrange,\n",
    "    drag_coefficients=drag_coefficients,\n",
    "    x_shock=x_shock,\n",
    "    labels={'hfact': hfacts},\n",
    "    plot_type='profile',\n",
    "    fig_kwargs={'width': 14.0},\n",
    ")"
   ]
  },
  {
   "cell_type": "markdown",
   "metadata": {},
   "source": [
    "### Compare resolution\n",
    "\n",
    "Check the effect of resolution. With neighbour number set by `hfact=1.5` and smoothing factor `smooth_fac=2.0`."
   ]
  },
  {
   "cell_type": "code",
   "execution_count": null,
   "metadata": {},
   "outputs": [],
   "source": [
    "nxs = [32, 64, 128, 256]\n",
    "smooth_fac = 2.0\n",
    "hfact = 1.5\n",
    "xrange = (-5, 15)\n",
    "#x_shock = [-5.2, -3.0, -1.8, -1.4]"
   ]
  },
  {
   "cell_type": "code",
   "execution_count": null,
   "metadata": {},
   "outputs": [],
   "source": [
    "sim_names = [f'N_{N}-nx_{nx}-smooth_fac_{smooth_fac}-hfact_{hfact}' for nx in nxs]\n",
    "snaps = [last_snap(paths[name]) for name in sim_names]"
   ]
  },
  {
   "cell_type": "markdown",
   "metadata": {},
   "source": [
    "Find shock x-position."
   ]
  },
  {
   "cell_type": "code",
   "execution_count": null,
   "metadata": {},
   "outputs": [],
   "source": [
    "x_shock = [find_x_shock(snap=snap, drag_coefficients=drag_coefficients, xrange=xrange) for snap in snaps]"
   ]
  },
  {
   "cell_type": "markdown",
   "metadata": {},
   "source": [
    "Plot the x-velocity and density for the gas and each dust species at the final timestep."
   ]
  },
  {
   "cell_type": "code",
   "execution_count": null,
   "metadata": {},
   "outputs": [],
   "source": [
    "plot_numerical_vs_exact(\n",
    "    snaps=snaps,\n",
    "    xrange=xrange,\n",
    "    drag_coefficients=drag_coefficients,\n",
    "    x_shock=x_shock,\n",
    "    labels={'nx': nxs},\n",
    "    plot_type='profile',\n",
    "    fig_kwargs={'width': 14.0},\n",
    ")"
   ]
  },
  {
   "cell_type": "markdown",
   "metadata": {},
   "source": [
    "### Compare initial conditions smoothing\n",
    "\n",
    "Set `nx=128` and `hfact=1.5`."
   ]
  },
  {
   "cell_type": "code",
   "execution_count": null,
   "metadata": {},
   "outputs": [],
   "source": [
    "smooth_facs = [2.0, 5.0]\n",
    "hfact = 1.5\n",
    "nx = 128\n",
    "xrange = (-5, 15)\n",
    "#x_shock = [-1.7, -2.9]"
   ]
  },
  {
   "cell_type": "code",
   "execution_count": null,
   "metadata": {},
   "outputs": [],
   "source": [
    "sim_names = [f'N_{N}-nx_{nx}-smooth_fac_{smooth_fac}-hfact_{hfact}' for smooth_fac in smooth_facs]\n",
    "snaps = [last_snap(paths[name]) for name in sim_names]"
   ]
  },
  {
   "cell_type": "markdown",
   "metadata": {},
   "source": [
    "Find shock x-position."
   ]
  },
  {
   "cell_type": "code",
   "execution_count": null,
   "metadata": {},
   "outputs": [],
   "source": [
    "x_shock = [find_x_shock(snap=snap, drag_coefficients=drag_coefficients, xrange=xrange) for snap in snaps]"
   ]
  },
  {
   "cell_type": "markdown",
   "metadata": {},
   "source": [
    "Plot the x-velocity and density for the gas and each dust species at the final timestep."
   ]
  },
  {
   "cell_type": "code",
   "execution_count": null,
   "metadata": {},
   "outputs": [],
   "source": [
    "plot_numerical_vs_exact(\n",
    "    snaps=snaps,\n",
    "    xrange=xrange,\n",
    "    drag_coefficients=drag_coefficients,\n",
    "    x_shock=x_shock,\n",
    "    labels={'smooth_fac': smooth_facs},\n",
    "    plot_type='profile',\n",
    ")"
   ]
  },
  {
   "cell_type": "markdown",
   "metadata": {},
   "source": [
    "## Show particles\n",
    "\n",
    "Show particle positions in xy- and xz-planes."
   ]
  },
  {
   "cell_type": "code",
   "execution_count": null,
   "metadata": {},
   "outputs": [],
   "source": [
    "sim_name = 'N_1-nx_64-smooth_fac_2.0-hfact_1.5'\n",
    "\n",
    "xrange = (-1000, 1000)\n",
    "\n",
    "init_snap = first_snap(paths[sim_name])\n",
    "final_snap = last_snap(paths[sim_name])"
   ]
  },
  {
   "cell_type": "markdown",
   "metadata": {},
   "source": [
    "### Initial condition xy"
   ]
  },
  {
   "cell_type": "code",
   "execution_count": null,
   "metadata": {},
   "outputs": [],
   "source": [
    "fig = plot_particle_arrangement(\n",
    "    snap=init_snap, y='y', xrange=xrange, fig_kwargs={'height': 2}, plot_kwargs={'ms': 1}\n",
    ")"
   ]
  },
  {
   "cell_type": "markdown",
   "metadata": {},
   "source": [
    "### Initial condition xz"
   ]
  },
  {
   "cell_type": "code",
   "execution_count": null,
   "metadata": {},
   "outputs": [],
   "source": [
    "fig = plot_particle_arrangement(\n",
    "    snap=init_snap, y='z', xrange=xrange, fig_kwargs={'height': 2}, plot_kwargs={'ms': 1}\n",
    ")"
   ]
  },
  {
   "cell_type": "markdown",
   "metadata": {},
   "source": [
    "### Final condition xy"
   ]
  },
  {
   "cell_type": "code",
   "execution_count": null,
   "metadata": {},
   "outputs": [],
   "source": [
    "fig = plot_particle_arrangement(\n",
    "    snap=final_snap, y='y', xrange=xrange, fig_kwargs={'height': 2}, plot_kwargs={'ms': 1}\n",
    ")"
   ]
  },
  {
   "cell_type": "markdown",
   "metadata": {},
   "source": [
    "### Final condition xz"
   ]
  },
  {
   "cell_type": "code",
   "execution_count": null,
   "metadata": {},
   "outputs": [],
   "source": [
    "fig = plot_particle_arrangement(\n",
    "    snap=final_snap, y='z', xrange=xrange, fig_kwargs={'height': 2}, plot_kwargs={'ms': 1}\n",
    ")"
   ]
  },
  {
   "cell_type": "markdown",
   "metadata": {},
   "source": [
    "## Error Convergence\n",
    "\n",
    "Check the error convergence with particle resolution."
   ]
  },
  {
   "cell_type": "markdown",
   "metadata": {},
   "source": [
    "### One dust species\n",
    "\n",
    "Get the snaps for one dust species."
   ]
  },
  {
   "cell_type": "code",
   "execution_count": null,
   "metadata": {},
   "outputs": [],
   "source": [
    "nxs = np.array([32, 64, 128, 256])\n",
    "\n",
    "drag_coefficients = [1.0]\n",
    "#x_shocks = [-5.2, -3.1, -2.2, -1.8]\n",
    "xrange = [-5, 15]\n",
    "N = 1\n",
    "smooth_fac = 2.0\n",
    "hfact = 1.5\n",
    "\n",
    "snaps = [last_snap(paths[f'N_{N}-nx_{nx}-smooth_fac_{smooth_fac}-hfact_{hfact}']) for nx in nxs]"
   ]
  },
  {
   "cell_type": "markdown",
   "metadata": {},
   "source": [
    "Find shock x-position."
   ]
  },
  {
   "cell_type": "code",
   "execution_count": null,
   "metadata": {},
   "outputs": [],
   "source": [
    "x_shocks = [find_x_shock(snap=snap, drag_coefficients=drag_coefficients, xrange=xrange) for snap in snaps]"
   ]
  },
  {
   "cell_type": "markdown",
   "metadata": {},
   "source": [
    "Plot the error for each species at each x-position for the high resolution case."
   ]
  },
  {
   "cell_type": "code",
   "execution_count": null,
   "metadata": {},
   "outputs": [],
   "source": [
    "idx = -1\n",
    "\n",
    "fig, axs = plot_velocity_density_error(snaps[idx], drag_coefficients, x_shocks[idx], xrange, error_type='relative')\n",
    "for ax in axs: ax.set_ylim(-0.01, 0.11)"
   ]
  },
  {
   "cell_type": "markdown",
   "metadata": {},
   "source": [
    "Plot the (relative) error against numerical resolution."
   ]
  },
  {
   "cell_type": "code",
   "execution_count": null,
   "metadata": {},
   "outputs": [],
   "source": [
    "plot_velocity_error_convergence(snaps, nxs, drag_coefficients, x_shocks, xrange)"
   ]
  },
  {
   "cell_type": "markdown",
   "metadata": {},
   "source": [
    "### Three dust species\n",
    "\n",
    "Get the snaps for three dust species."
   ]
  },
  {
   "cell_type": "code",
   "execution_count": null,
   "metadata": {},
   "outputs": [],
   "source": [
    "nxs = np.array([32, 64, 128, 256])\n",
    "\n",
    "drag_coefficients = [1.0, 3.0, 5.0]\n",
    "#x_shocks = [-5.2, -3.0, -1.8, -1.4]\n",
    "xrange = [-5, 15]\n",
    "N = 3\n",
    "smooth_fac = 2.0\n",
    "hfact = 1.5\n",
    "\n",
    "snaps = [last_snap(paths[f'N_{N}-nx_{nx}-smooth_fac_{smooth_fac}-hfact_{hfact}']) for nx in nxs]"
   ]
  },
  {
   "cell_type": "markdown",
   "metadata": {},
   "source": [
    "Find shock x-position."
   ]
  },
  {
   "cell_type": "code",
   "execution_count": null,
   "metadata": {},
   "outputs": [],
   "source": [
    "x_shocks = [find_x_shock(snap=snap, drag_coefficients=drag_coefficients, xrange=xrange) for snap in snaps]"
   ]
  },
  {
   "cell_type": "markdown",
   "metadata": {},
   "source": [
    "Plot the error for each species at each x-position for the high resolution case."
   ]
  },
  {
   "cell_type": "code",
   "execution_count": null,
   "metadata": {},
   "outputs": [],
   "source": [
    "idx = -1\n",
    "\n",
    "fig, axs = plot_velocity_density_error(snaps[idx], drag_coefficients, x_shocks[idx], xrange, error_type='relative')\n",
    "for ax in axs: ax.set_ylim(-0.01, 0.11)"
   ]
  },
  {
   "cell_type": "code",
   "execution_count": null,
   "metadata": {},
   "outputs": [],
   "source": [
    "plot_velocity_error_convergence(snaps, nxs, drag_coefficients, x_shocks, xrange)"
   ]
  }
 ],
 "metadata": {
  "kernelspec": {
   "display_name": "Python 3",
   "language": "python",
   "name": "python3"
  },
  "language_info": {
   "codemirror_mode": {
    "name": "ipython",
    "version": 3
   },
   "file_extension": ".py",
   "mimetype": "text/x-python",
   "name": "python",
   "nbconvert_exporter": "python",
   "pygments_lexer": "ipython3",
   "version": "3.7.6"
  }
 },
 "nbformat": 4,
 "nbformat_minor": 4
}
