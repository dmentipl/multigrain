{
 "cells": [
  {
   "cell_type": "code",
   "execution_count": null,
   "metadata": {},
   "outputs": [],
   "source": [
    "%load_ext blackcellmagic"
   ]
  },
  {
   "cell_type": "code",
   "execution_count": null,
   "metadata": {},
   "outputs": [],
   "source": [
    "import pathlib\n",
    "\n",
    "import numpy as np\n",
    "import plonk\n",
    "\n",
    "from bokeh.io import output_notebook, show\n",
    "from bokeh.palettes import Inferno11\n",
    "from bokeh.plotting import figure\n",
    "output_notebook()"
   ]
  },
  {
   "cell_type": "code",
   "execution_count": null,
   "metadata": {},
   "outputs": [],
   "source": [
    "directory = pathlib.Path('~/runs/multigrain/dustywave/Epstein-f=0.01-MRN').expanduser()\n",
    "sim = plonk.load_sim(prefix='dustywave', directory=directory)"
   ]
  },
  {
   "cell_type": "code",
   "execution_count": null,
   "metadata": {},
   "outputs": [],
   "source": [
    "# Plot first n_snaps snaps\n",
    "n_snaps = 10\n",
    "snaps = sim.snaps[:n_snaps]\n",
    "\n",
    "# Plot every n_particle particles\n",
    "n_particles = 100\n",
    "s = slice(None, None, n_particles)\n",
    "\n",
    "x_range = (-0.6, 0.6)\n",
    "y_range = (-10e-4, 10e-4)\n",
    "\n",
    "fig = figure(x_range=x_range, y_range=y_range)\n",
    "for snap, color in zip(snaps, Inferno11):\n",
    "    fig.scatter(\n",
    "        snap[\"x\"][s], snap[\"vx\"][s], line_color=color, fill_color=color, size=5\n",
    "    )\n",
    "show(fig)"
   ]
  },
  {
   "cell_type": "code",
   "execution_count": null,
   "metadata": {},
   "outputs": [],
   "source": []
  }
 ],
 "metadata": {
  "kernelspec": {
   "display_name": "Python 3",
   "language": "python",
   "name": "python3"
  },
  "language_info": {
   "codemirror_mode": {
    "name": "ipython",
    "version": 3
   },
   "file_extension": ".py",
   "mimetype": "text/x-python",
   "name": "python",
   "nbconvert_exporter": "python",
   "pygments_lexer": "ipython3",
   "version": "3.7.3"
  }
 },
 "nbformat": 4,
 "nbformat_minor": 4
}
