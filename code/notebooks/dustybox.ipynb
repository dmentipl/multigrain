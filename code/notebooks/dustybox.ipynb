{
 "cells": [
  {
   "cell_type": "markdown",
   "metadata": {},
   "source": [
    "# Dusty box analysis\n",
    "\n",
    "This notebook contains analysis of the dusty box test for multigrain dust."
   ]
  },
  {
   "cell_type": "markdown",
   "metadata": {},
   "source": [
    "## Imports"
   ]
  },
  {
   "cell_type": "code",
   "execution_count": null,
   "metadata": {},
   "outputs": [],
   "source": [
    "import importlib\n",
    "import pathlib\n",
    "from pathlib import Path\n",
    "from typing import Any, Dict, List, Tuple"
   ]
  },
  {
   "cell_type": "code",
   "execution_count": null,
   "metadata": {},
   "outputs": [],
   "source": [
    "import numpy as np\n",
    "import pandas as pd\n",
    "import plonk\n",
    "from bokeh.io import output_notebook, show\n",
    "from bokeh.layouts import gridplot\n",
    "from bokeh.palettes import Category10\n",
    "from bokeh.plotting import figure\n",
    "output_notebook()"
   ]
  },
  {
   "cell_type": "code",
   "execution_count": null,
   "metadata": {},
   "outputs": [],
   "source": [
    "import multigrain"
   ]
  },
  {
   "cell_type": "markdown",
   "metadata": {},
   "source": [
    "## Path to data"
   ]
  },
  {
   "cell_type": "code",
   "execution_count": null,
   "metadata": {},
   "outputs": [],
   "source": [
    "root_directory = pathlib.Path('~/runs/multigrain/dustybox').expanduser()\n",
    "paths_dict = dict([(d.name, sorted(list(d.glob('*')))) for d in list(root_directory.glob('[a-z]*'))])"
   ]
  },
  {
   "cell_type": "markdown",
   "metadata": {},
   "source": [
    "## Perform analysis"
   ]
  },
  {
   "cell_type": "markdown",
   "metadata": {},
   "source": [
    "Define analysis function which does the analysis on a set of simulations."
   ]
  },
  {
   "cell_type": "code",
   "execution_count": null,
   "metadata": {},
   "outputs": [],
   "source": [
    "def analysis(paths: List):\n",
    "    dataframes = dict()\n",
    "\n",
    "    for p in paths:\n",
    "        try:\n",
    "            sim = plonk.load_sim(prefix='dustybox', directory=p)\n",
    "            name = sim.path.name\n",
    "            print(f'Running analysis on {name}')\n",
    "            dataframes[name] = multigrain.dustybox.generate_results(sim)\n",
    "            del sim\n",
    "        except ValueError:\n",
    "            pass\n",
    "        \n",
    "    return dataframes"
   ]
  },
  {
   "cell_type": "markdown",
   "metadata": {},
   "source": [
    "Run analysis on simulations."
   ]
  },
  {
   "cell_type": "code",
   "execution_count": null,
   "metadata": {},
   "outputs": [],
   "source": [
    "experiments = dict()\n",
    "for name, paths in paths_dict.items():\n",
    "    print(f'--- Experiment: {name} ---')\n",
    "    experiments[name] = analysis(paths)"
   ]
  },
  {
   "cell_type": "markdown",
   "metadata": {},
   "source": [
    "## Plot results"
   ]
  },
  {
   "cell_type": "markdown",
   "metadata": {},
   "source": [
    "Define function to plot results from one simulation."
   ]
  },
  {
   "cell_type": "code",
   "execution_count": null,
   "metadata": {},
   "outputs": [],
   "source": [
    "def plot(name, df):\n",
    "    \"\"\"Plot one simulation.\"\"\"\n",
    "    palette = Category10[5]\n",
    "\n",
    "    x = [df['time'] for col in df.columns if col.startswith('data')]\n",
    "    y_data = [df[col] for col in df.columns if col.startswith('data')]\n",
    "    y_exact1 = [df[col] for col in df.columns if col.startswith('exact1')]\n",
    "    y_exact2 = [df[col] for col in df.columns if col.startswith('exact2')]\n",
    "\n",
    "    fig = figure(title=name)\n",
    "    fig.multi_line(x, y_exact1, line_dash='solid', line_color=palette, line_width=2)\n",
    "    fig.multi_line(x, y_exact2, line_dash=[10, 10], line_color=palette, line_width=2)\n",
    "    for xx, yy, color in zip(x, y_data, palette):\n",
    "        fig.scatter(xx, yy, line_color=color, fill_color=None, size=6)\n",
    "\n",
    "    return fig"
   ]
  },
  {
   "cell_type": "markdown",
   "metadata": {},
   "source": [
    "Plot all simulation results."
   ]
  },
  {
   "cell_type": "code",
   "execution_count": null,
   "metadata": {},
   "outputs": [],
   "source": [
    "ncols = 3\n",
    "figs = list()\n",
    "\n",
    "for name, df in experiments['time_evolution'].items():\n",
    "    fig = plot(name, df)\n",
    "    figs.append(fig)\n",
    "    \n",
    "p = gridplot(figs, ncols=ncols, sizing_mode='stretch_width', plot_height=300)\n",
    "show(p)"
   ]
  },
  {
   "cell_type": "code",
   "execution_count": null,
   "metadata": {},
   "outputs": [],
   "source": [
    "ncols = 2\n",
    "figs = list()\n",
    "\n",
    "for name, df in experiments['accuracy'].items():\n",
    "    fig = plot(name, df)\n",
    "    figs.append(fig)\n",
    "    \n",
    "p = gridplot(figs, ncols=ncols, sizing_mode='stretch_width', plot_height=300)\n",
    "show(p)"
   ]
  }
 ],
 "metadata": {
  "kernelspec": {
   "display_name": "Python 3",
   "language": "python",
   "name": "python3"
  },
  "language_info": {
   "codemirror_mode": {
    "name": "ipython",
    "version": 3
   },
   "file_extension": ".py",
   "mimetype": "text/x-python",
   "name": "python",
   "nbconvert_exporter": "python",
   "pygments_lexer": "ipython3",
   "version": "3.7.3"
  }
 },
 "nbformat": 4,
 "nbformat_minor": 4
}
