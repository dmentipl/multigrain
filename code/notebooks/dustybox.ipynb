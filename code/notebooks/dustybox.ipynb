{
 "cells": [
  {
   "cell_type": "markdown",
   "metadata": {},
   "source": [
    "# Dusty box\n",
    "\n",
    "This notebook contains analysis of the dusty box test for multigrain dust."
   ]
  },
  {
   "cell_type": "code",
   "execution_count": null,
   "metadata": {},
   "outputs": [],
   "source": [
    "import pathlib\n",
    "import sys"
   ]
  },
  {
   "cell_type": "code",
   "execution_count": null,
   "metadata": {},
   "outputs": [],
   "source": [
    "%matplotlib widget\n",
    "import matplotlib.pyplot as plt\n",
    "import numpy as np\n",
    "import plonk"
   ]
  },
  {
   "cell_type": "code",
   "execution_count": null,
   "metadata": {},
   "outputs": [],
   "source": [
    "sys.path.insert(0, '../modules')\n",
    "from multigrain import dustybox"
   ]
  },
  {
   "cell_type": "markdown",
   "metadata": {},
   "source": [
    "## Time evolution"
   ]
  },
  {
   "cell_type": "code",
   "execution_count": null,
   "metadata": {},
   "outputs": [],
   "source": [
    "root_directory = pathlib.Path('~/runs/multigrain/dustybox/time_evolution').expanduser()\n",
    "_paths = sorted(list(root_directory.glob('*')))\n",
    "paths = {p.name: p for p in _paths}\n",
    "paths"
   ]
  },
  {
   "cell_type": "markdown",
   "metadata": {},
   "source": [
    "### Calculate velocity differential time evolution"
   ]
  },
  {
   "cell_type": "code",
   "execution_count": null,
   "metadata": {},
   "outputs": [],
   "source": [
    "data = dict()\n",
    "exact1 = dict()\n",
    "exact2 = dict()\n",
    "\n",
    "for name, path in paths.items():\n",
    "    try:\n",
    "        print(f'Running analysis for {name}...')\n",
    "        sim = plonk.load_sim(prefix='dustybox', directory=path)\n",
    "        data[name] = dustybox.calculate_differential_velocity(sim)\n",
    "        exact1[name] = dustybox.calculate_differential_velocity_exact(sim, backreaction=True)\n",
    "        exact2[name] = dustybox.calculate_differential_velocity_exact(sim, backreaction=False)\n",
    "    except:\n",
    "        print(f'Failed to load {name}')"
   ]
  },
  {
   "cell_type": "markdown",
   "metadata": {},
   "source": [
    "### Plot time evolution"
   ]
  },
  {
   "cell_type": "code",
   "execution_count": null,
   "metadata": {},
   "outputs": [],
   "source": [
    "fig = dustybox.plot_differential_velocity_all(data, exact1, exact2, figsize=(10, 6))"
   ]
  },
  {
   "cell_type": "markdown",
   "metadata": {},
   "source": [
    "### Calculate velocity differential error"
   ]
  },
  {
   "cell_type": "code",
   "execution_count": null,
   "metadata": {},
   "outputs": [],
   "source": [
    "error = dict()\n",
    "\n",
    "for name, path in paths.items():\n",
    "    print(f'Calculating error for {name}...')\n",
    "    sim = plonk.load_sim(prefix='dustybox', directory=path)\n",
    "    error[name] = dustybox.calculate_error(sim)"
   ]
  },
  {
   "cell_type": "markdown",
   "metadata": {},
   "source": [
    "### Plot error"
   ]
  },
  {
   "cell_type": "code",
   "execution_count": null,
   "metadata": {},
   "outputs": [],
   "source": [
    "fig = dustybox.plot_error_all(error, figsize=(10, 6))"
   ]
  },
  {
   "cell_type": "markdown",
   "metadata": {},
   "source": [
    "## Stability"
   ]
  },
  {
   "cell_type": "code",
   "execution_count": null,
   "metadata": {},
   "outputs": [],
   "source": [
    "# Parameter in Phantom patch: \"comparing\" dt_force and dt_drag\n",
    "DTFORCE_TO_DTDRAG = 3.6"
   ]
  },
  {
   "cell_type": "code",
   "execution_count": null,
   "metadata": {},
   "outputs": [],
   "source": [
    "root_directory = pathlib.Path('~/runs/multigrain/dustybox/stability').expanduser()\n",
    "_paths = sorted(list(root_directory.glob('*')))\n",
    "paths = {p.name: p for p in _paths}\n",
    "paths"
   ]
  },
  {
   "cell_type": "code",
   "execution_count": null,
   "metadata": {},
   "outputs": [],
   "source": [
    "dust_to_gas = sorted(list(set([float(key[4:8]) for key in paths.keys()])))\n",
    "C_force = sorted(list(set([float(key[17:]) for key in paths.keys()])))\n",
    "dtdrag_fac = [val * DTFORCE_TO_DTDRAG for val in C_force]"
   ]
  },
  {
   "cell_type": "markdown",
   "metadata": {},
   "source": [
    "### Calculate velocity differential time evolution"
   ]
  },
  {
   "cell_type": "code",
   "execution_count": null,
   "metadata": {},
   "outputs": [],
   "source": [
    "data = dict()\n",
    "exact1 = dict()\n",
    "exact2 = dict()\n",
    "\n",
    "for name, path in paths.items():\n",
    "    try:\n",
    "        print(f'Running analysis for {name}...')\n",
    "        sim = plonk.load_sim(prefix='dustybox', directory=path)\n",
    "        data[name] = dustybox.calculate_differential_velocity(sim)\n",
    "        exact1[name] = dustybox.calculate_differential_velocity_exact(sim, backreaction=True)\n",
    "        exact2[name] = dustybox.calculate_differential_velocity_exact(sim, backreaction=False)\n",
    "    except:\n",
    "        print(f'Failed to load {name}')"
   ]
  },
  {
   "cell_type": "markdown",
   "metadata": {},
   "source": [
    "### Plot stability"
   ]
  },
  {
   "cell_type": "code",
   "execution_count": null,
   "metadata": {},
   "outputs": [],
   "source": [
    "n_dust_to_gas = len(dust_to_gas)\n",
    "fig = dustybox.plot_differential_velocity_all(data, exact1, exact2, ncols=4, figsize=(12, 10), transpose=True)\n",
    "for ax, eps in zip(fig.axes[:n_dust_to_gas], dust_to_gas):\n",
    "    ax.set_title(rf'$\\epsilon = {eps:.2f}$')\n",
    "for ax, fac in zip(fig.axes[::n_dust_to_gas], dtdrag_fac):\n",
    "    ax.set_ylabel(rf'{fac:.4f}')"
   ]
  },
  {
   "cell_type": "markdown",
   "metadata": {},
   "source": [
    "## Accuracy"
   ]
  },
  {
   "cell_type": "code",
   "execution_count": null,
   "metadata": {},
   "outputs": [],
   "source": [
    "# Parameter in Phantom patch: \"comparing\" dt_force and dt_drag\n",
    "DTFORCE_TO_DTDRAG = 1.0"
   ]
  },
  {
   "cell_type": "code",
   "execution_count": null,
   "metadata": {},
   "outputs": [],
   "source": [
    "root_directory = pathlib.Path('~/runs/multigrain/dustybox/accuracy').expanduser()\n",
    "_paths = sorted(list(root_directory.glob('*')))\n",
    "paths = {p.name: p for p in _paths}\n",
    "paths"
   ]
  },
  {
   "cell_type": "code",
   "execution_count": null,
   "metadata": {},
   "outputs": [],
   "source": [
    "hfact = list()\n",
    "dust_to_gas = list()\n",
    "C_force = list()\n",
    "for path in paths.keys():\n",
    "    eta, eps, cf = [float(s.split('_')[-1]) for s in path.split('-')]\n",
    "    hfact.append(eta)\n",
    "    dust_to_gas.append(eps)\n",
    "    C_force.append(cf)\n",
    "\n",
    "hfact = sorted(list(set(hfact)))\n",
    "dust_to_gas = sorted(list(set(dust_to_gas)))\n",
    "C_force = sorted(list(set(C_force)))\n",
    "C_drag = [val * DTFORCE_TO_DTDRAG for val in C_force]"
   ]
  },
  {
   "cell_type": "code",
   "execution_count": null,
   "metadata": {},
   "outputs": [],
   "source": [
    "def get(path, q):\n",
    "    nums = [float(s.split('_')[-1]) for s in path.split('-')]\n",
    "    if q == 'hfact':\n",
    "        return nums[0]\n",
    "    if q == 'dust_to_gas':\n",
    "        return nums[1]\n",
    "    if q == 'C_force':\n",
    "        return nums[2]\n",
    "    raise ValueError"
   ]
  },
  {
   "cell_type": "markdown",
   "metadata": {},
   "source": [
    "### Calculate velocity differential time evolution"
   ]
  },
  {
   "cell_type": "code",
   "execution_count": null,
   "metadata": {},
   "outputs": [],
   "source": [
    "data = dict()\n",
    "exact1 = dict()\n",
    "exact2 = dict()\n",
    "\n",
    "for name, path in paths.items():\n",
    "    try:\n",
    "        print(f'Running analysis for {name}...')\n",
    "        sim = plonk.load_sim(prefix='dustybox', directory=path)\n",
    "        data[name] = dustybox.calculate_differential_velocity(sim)\n",
    "        exact1[name] = dustybox.calculate_differential_velocity_exact(sim, backreaction=True)\n",
    "        exact2[name] = dustybox.calculate_differential_velocity_exact(sim, backreaction=False)\n",
    "    except:\n",
    "        print(f'Failed to load {name}')"
   ]
  },
  {
   "cell_type": "markdown",
   "metadata": {},
   "source": [
    "### Plot accuracy"
   ]
  },
  {
   "cell_type": "code",
   "execution_count": null,
   "metadata": {},
   "outputs": [],
   "source": [
    "def plot_accuracy(eta):\n",
    "    _data = {key: val for key, val in data.items() if get(key, 'hfact') == eta}\n",
    "    _exact1 = {key: val for key, val in exact1.items() if get(key, 'hfact') == eta}\n",
    "    _exact2 = {key: val for key, val in exact2.items() if get(key, 'hfact') == eta}\n",
    "\n",
    "    n_dust_to_gas = len(dust_to_gas)\n",
    "    fig = dustybox.plot_differential_velocity_all(_data, _exact1, _exact2, ncols=2, figsize=(10, 10), transpose=True)\n",
    "    for ax, eps in zip(fig.axes[:n_dust_to_gas], dust_to_gas):\n",
    "        ax.set_title(rf'$\\epsilon = {eps:.2f}$')\n",
    "    for ax, fac in zip(fig.axes[::n_dust_to_gas], dtdrag_fac):\n",
    "        ax.set_ylabel(rf'{fac:.4f}')"
   ]
  },
  {
   "cell_type": "code",
   "execution_count": null,
   "metadata": {},
   "outputs": [],
   "source": [
    "plot_accuracy(eta=1.0)"
   ]
  },
  {
   "cell_type": "code",
   "execution_count": null,
   "metadata": {},
   "outputs": [],
   "source": [
    "plot_accuracy(eta=2.5)"
   ]
  },
  {
   "cell_type": "markdown",
   "metadata": {},
   "source": [
    "### Calculate velocity differential error"
   ]
  },
  {
   "cell_type": "code",
   "execution_count": null,
   "metadata": {},
   "outputs": [],
   "source": [
    "error = dict()\n",
    "\n",
    "for name, path in paths.items():\n",
    "    try:\n",
    "        print(f'Calculating error for {name}...')\n",
    "        sim = plonk.load_sim(prefix='dustybox', directory=path)\n",
    "        error[name] = dustybox.calculate_error(sim, relative=False)\n",
    "    except:\n",
    "        print(f'Failed to load {name}')"
   ]
  },
  {
   "cell_type": "markdown",
   "metadata": {},
   "source": [
    "### Plot error"
   ]
  },
  {
   "cell_type": "code",
   "execution_count": null,
   "metadata": {},
   "outputs": [],
   "source": [
    "def plot_accuracy_error(eta):\n",
    "    _error = {key: val for key, val in error.items() if get(key, 'hfact') == eta}\n",
    "\n",
    "    fig = dustybox.plot_error_all(_error, plot_type='linear', ncols=2, figsize=(10, 6), transpose=True)\n",
    "    for ax, eps in zip(fig.axes[:n_dust_to_gas], dust_to_gas):\n",
    "        ax.set_title(rf'$\\epsilon = {eps:.2f}$')\n",
    "    for ax, fac in zip(fig.axes[::n_dust_to_gas], dtdrag_fac):\n",
    "        ax.set_ylabel(rf'{fac:.4f}')"
   ]
  },
  {
   "cell_type": "code",
   "execution_count": null,
   "metadata": {},
   "outputs": [],
   "source": [
    "plot_accuracy_error(eta=1.0)"
   ]
  },
  {
   "cell_type": "code",
   "execution_count": null,
   "metadata": {},
   "outputs": [],
   "source": [
    "plot_accuracy_error(eta=2.5)"
   ]
  },
  {
   "cell_type": "code",
   "execution_count": null,
   "metadata": {},
   "outputs": [],
   "source": [
    "def error_norm_fn(errors, method=2):\n",
    "    if method == 1:\n",
    "        return np.sqrt(np.sum([np.mean(err) ** 2 for err in errors]))\n",
    "    elif method == 2:\n",
    "        return np.sqrt(np.sum([err ** 2 for err in errors]))\n",
    "    elif method == 3:\n",
    "        return np.sum([err for err in errors])\n",
    "    elif method == 4:\n",
    "        return np.sum([err.iloc[1] for err in errors])\n",
    "    raise ValueError"
   ]
  },
  {
   "cell_type": "code",
   "execution_count": null,
   "metadata": {},
   "outputs": [],
   "source": [
    "C_drag = {}\n",
    "error_norm = {}\n",
    "for key, val in error.items():\n",
    "    name = key[:18]\n",
    "    if C_drag.get(name) is None:\n",
    "        C_drag[name] = list()\n",
    "    C_drag[name].append(get(key, 'C_force'))\n",
    "    if error_norm.get(name) is None:\n",
    "        error_norm[name] = list()\n",
    "    error_norm[name].append(error_norm_fn([val['error.1'], val['error.2']], method=2))"
   ]
  },
  {
   "cell_type": "code",
   "execution_count": null,
   "metadata": {},
   "outputs": [],
   "source": [
    "def line(x, m=2, c=0):\n",
    "    return [m * _x + c for _x in x]"
   ]
  },
  {
   "cell_type": "code",
   "execution_count": null,
   "metadata": {},
   "outputs": [],
   "source": [
    "m, c = 2, -0.1\n",
    "\n",
    "fig, ax = plt.subplots()\n",
    "\n",
    "def plot_error_norm(eta, marker, label, ax):\n",
    "    _C_drag = {key: val for key, val in C_drag.items() if get(key, 'hfact') == eta}\n",
    "    _error_norm = {key: val for key, val in error_norm.items() if get(key, 'hfact') == eta}\n",
    "\n",
    "    for (eps, dt), err in zip(_C_drag.items(), _error_norm.values()):\n",
    "        _eps = get(eps, 'dust_to_gas')\n",
    "        if label:\n",
    "            _label = rf'$\\eta = {eta}, \\epsilon = {_eps}$'\n",
    "        else:\n",
    "            _label = None\n",
    "        ax.plot(np.log10(dt), np.log10(err), marker, label=_label)\n",
    "\n",
    "    return [np.log10(dt[0]), np.log10(dt[-1])]\n",
    "\n",
    "plot_error_norm(eta=1.0, marker='d', label=True, ax=ax)\n",
    "x = plot_error_norm(eta=2.5, marker='s', label=True, ax=ax)\n",
    "ax.plot(x, line(x, m=m, c=c), '--', color='gray')  #, label=f'Slope {m}')\n",
    "ax.set(xlabel='log10(dt)', ylabel='log10(error)')\n",
    "ax.legend()"
   ]
  }
 ],
 "metadata": {
  "kernelspec": {
   "display_name": "Python 3",
   "language": "python",
   "name": "python3"
  },
  "language_info": {
   "codemirror_mode": {
    "name": "ipython",
    "version": 3
   },
   "file_extension": ".py",
   "mimetype": "text/x-python",
   "name": "python",
   "nbconvert_exporter": "python",
   "pygments_lexer": "ipython3",
   "version": "3.7.8"
  }
 },
 "nbformat": 4,
 "nbformat_minor": 4
}
