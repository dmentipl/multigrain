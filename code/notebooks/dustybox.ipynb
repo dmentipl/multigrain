{
 "cells": [
  {
   "cell_type": "markdown",
   "metadata": {},
   "source": [
    "# Dusty box\n",
    "\n",
    "This notebook contains analysis of the dusty box test for multigrain dust."
   ]
  },
  {
   "cell_type": "code",
   "execution_count": null,
   "metadata": {},
   "outputs": [],
   "source": [
    "import pathlib\n",
    "import sys"
   ]
  },
  {
   "cell_type": "code",
   "execution_count": null,
   "metadata": {},
   "outputs": [],
   "source": [
    "%matplotlib widget\n",
    "import plonk"
   ]
  },
  {
   "cell_type": "code",
   "execution_count": null,
   "metadata": {},
   "outputs": [],
   "source": [
    "sys.path.insert(0, '../modules')\n",
    "from multigrain import dustybox"
   ]
  },
  {
   "cell_type": "markdown",
   "metadata": {},
   "source": [
    "## Time evolution"
   ]
  },
  {
   "cell_type": "code",
   "execution_count": null,
   "metadata": {},
   "outputs": [],
   "source": [
    "root_directory = pathlib.Path('~/runs/multigrain/dustybox/time_evolution').expanduser()\n",
    "_paths = sorted(list(root_directory.glob('*')))\n",
    "paths = {p.name: p for p in _paths}\n",
    "paths"
   ]
  },
  {
   "cell_type": "markdown",
   "metadata": {},
   "source": [
    "### Calculate velocity differential time evolution"
   ]
  },
  {
   "cell_type": "code",
   "execution_count": null,
   "metadata": {},
   "outputs": [],
   "source": [
    "data = dict()\n",
    "exact1 = dict()\n",
    "exact2 = dict()\n",
    "\n",
    "for name, path in paths.items():\n",
    "    try:\n",
    "        print(f'Running analysis for {name}...')\n",
    "        sim = plonk.load_sim(prefix='dustybox', directory=path)\n",
    "        data[name] = dustybox.calculate_differential_velocity(sim)\n",
    "        exact1[name] = dustybox.calculate_differential_velocity_exact(sim, backreaction=True)\n",
    "        exact2[name] = dustybox.calculate_differential_velocity_exact(sim, backreaction=False)\n",
    "    except:\n",
    "        print(f'Failed to load {name}')"
   ]
  },
  {
   "cell_type": "markdown",
   "metadata": {},
   "source": [
    "### Plot time evolution"
   ]
  },
  {
   "cell_type": "code",
   "execution_count": null,
   "metadata": {},
   "outputs": [],
   "source": [
    "fig = dustybox.plot_differential_velocity_all(data, exact1, exact2, figsize=(10, 6))"
   ]
  },
  {
   "cell_type": "markdown",
   "metadata": {},
   "source": [
    "### Calculate velocity differential error"
   ]
  },
  {
   "cell_type": "code",
   "execution_count": null,
   "metadata": {},
   "outputs": [],
   "source": [
    "error = dict()\n",
    "\n",
    "for name, path in paths.items():\n",
    "    print(f'Calculating error for {name}...')\n",
    "    sim = plonk.load_sim(prefix='dustybox', directory=path)\n",
    "    error[name] = dustybox.calculate_error(sim)"
   ]
  },
  {
   "cell_type": "markdown",
   "metadata": {},
   "source": [
    "### Plot error"
   ]
  },
  {
   "cell_type": "code",
   "execution_count": null,
   "metadata": {},
   "outputs": [],
   "source": [
    "fig = dustybox.plot_error_all(error, figsize=(10, 6))"
   ]
  },
  {
   "cell_type": "markdown",
   "metadata": {},
   "source": [
    "## Stability"
   ]
  },
  {
   "cell_type": "code",
   "execution_count": null,
   "metadata": {},
   "outputs": [],
   "source": [
    "# Parameter in Phantom patch: \"comparing\" dt_force and dt_drag\n",
    "DTFORCE_TO_DTDRAG = 3.6"
   ]
  },
  {
   "cell_type": "code",
   "execution_count": null,
   "metadata": {},
   "outputs": [],
   "source": [
    "root_directory = pathlib.Path('~/runs/multigrain/dustybox/stability').expanduser()\n",
    "_paths = sorted(list(root_directory.glob('*')))\n",
    "paths = {p.name: p for p in _paths}\n",
    "paths"
   ]
  },
  {
   "cell_type": "code",
   "execution_count": null,
   "metadata": {},
   "outputs": [],
   "source": [
    "dust_to_gas = sorted(list(set([float(key[4:8]) for key in paths.keys()])))\n",
    "C_force = sorted(list(set([float(key[17:]) for key in paths.keys()])))\n",
    "dtdrag_fac = [val * DTFORCE_TO_DTDRAG for val in C_force]"
   ]
  },
  {
   "cell_type": "markdown",
   "metadata": {},
   "source": [
    "### Calculate velocity differential time evolution"
   ]
  },
  {
   "cell_type": "code",
   "execution_count": null,
   "metadata": {},
   "outputs": [],
   "source": [
    "data = dict()\n",
    "exact1 = dict()\n",
    "exact2 = dict()\n",
    "\n",
    "for name, path in paths.items():\n",
    "    try:\n",
    "        print(f'Running analysis for {name}...')\n",
    "        sim = plonk.load_sim(prefix='dustybox', directory=path)\n",
    "        data[name] = dustybox.calculate_differential_velocity(sim)\n",
    "        exact1[name] = dustybox.calculate_differential_velocity_exact(sim, backreaction=True)\n",
    "        exact2[name] = dustybox.calculate_differential_velocity_exact(sim, backreaction=False)\n",
    "    except:\n",
    "        print(f'Failed to load {name}')"
   ]
  },
  {
   "cell_type": "markdown",
   "metadata": {},
   "source": [
    "### Plot stability"
   ]
  },
  {
   "cell_type": "code",
   "execution_count": null,
   "metadata": {},
   "outputs": [],
   "source": [
    "n_dust_to_gas = len(dust_to_gas)\n",
    "fig = dustybox.plot_differential_velocity_all(data, exact1, exact2, ncols=4, figsize=(12, 10), transpose=True)\n",
    "for ax, eps in zip(fig.axes[:n_dust_to_gas], dust_to_gas):\n",
    "    ax.set_title(rf'$\\epsilon = {eps:.2f}$')\n",
    "for ax, fac in zip(fig.axes[::n_dust_to_gas], dtdrag_fac):\n",
    "    ax.set_ylabel(rf'{fac:.4f}')"
   ]
  }
 ],
 "metadata": {
  "kernelspec": {
   "display_name": "Python 3",
   "language": "python",
   "name": "python3"
  },
  "language_info": {
   "codemirror_mode": {
    "name": "ipython",
    "version": 3
   },
   "file_extension": ".py",
   "mimetype": "text/x-python",
   "name": "python",
   "nbconvert_exporter": "python",
   "pygments_lexer": "ipython3",
   "version": "3.7.6"
  }
 },
 "nbformat": 4,
 "nbformat_minor": 4
}
