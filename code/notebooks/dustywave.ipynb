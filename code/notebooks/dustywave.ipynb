{
 "cells": [
  {
   "cell_type": "markdown",
   "metadata": {},
   "source": [
    "# Dusty wave"
   ]
  },
  {
   "cell_type": "markdown",
   "metadata": {},
   "source": [
    "## Imports"
   ]
  },
  {
   "cell_type": "code",
   "execution_count": null,
   "metadata": {},
   "outputs": [],
   "source": [
    "import pathlib\n",
    "\n",
    "import numpy as np\n",
    "import pandas as pd\n",
    "import plonk\n",
    "\n",
    "from bokeh.io import output_notebook, show\n",
    "from bokeh.layouts import gridplot, row\n",
    "from bokeh.palettes import inferno, viridis, Category10\n",
    "from bokeh.plotting import figure\n",
    "output_notebook()"
   ]
  },
  {
   "cell_type": "markdown",
   "metadata": {},
   "source": [
    "## Exact solution"
   ]
  },
  {
   "cell_type": "code",
   "execution_count": null,
   "metadata": {},
   "outputs": [],
   "source": [
    "\"\"\"Exact solutions to dusty wave problem.\n",
    "\n",
    "The solutions give the magnitude of the perturbations. From\n",
    "Benítez-Llambay et al. (2019).\n",
    "\"\"\"\n",
    "\n",
    "import numpy as np\n",
    "\n",
    "L = 1.0\n",
    "k = 2.0 * np.pi / L\n",
    "c_s = 1.0\n",
    "\n",
    "drho_g = 1.0\n",
    "rho0_g = 1.0\n",
    "\n",
    "omega_s = k * c_s\n",
    "\n",
    "omega = dict()\n",
    "tstop = dict()\n",
    "\n",
    "omega[2] = 1.915896 - 4.410541j\n",
    "tstop[2] = (0.4,)\n",
    "\n",
    "omega[5] = 0.912414 - 5.493800j\n",
    "tstop[5] = (0.1, 0.215443, 0.464159, 1.0)\n",
    "\n",
    "\n",
    "def rho_g(time, omega):\n",
    "    \"\"\"Normalized gas density perturbation.\"\"\"\n",
    "    const = 1\n",
    "    return (const * np.exp(-omega * time)).real\n",
    "\n",
    "\n",
    "def v_g(time, omega):\n",
    "    \"\"\"Normalized gas velocity perturbation.\"\"\"\n",
    "    const = -1j * omega / omega_s * drho_g / rho0_g\n",
    "    return (const * np.exp(-omega * time)).real\n",
    "\n",
    "\n",
    "def rho_d(time, omega, tstop):\n",
    "    \"\"\"Normalized dust density perturbation.\"\"\"\n",
    "    const = 1 / (1 - omega * tstop) * drho_g / rho0_g\n",
    "    return (const * np.exp(-omega * time)).real\n",
    "\n",
    "\n",
    "def v_d(time, omega, tstop):\n",
    "    \"\"\"Normalized dust velocity perturbation.\"\"\"\n",
    "    const = -1j * omega / omega_s / (1 - omega * tstop) * drho_g / rho0_g\n",
    "    return (const * np.exp(-omega * time)).real\n"
   ]
  },
  {
   "cell_type": "markdown",
   "metadata": {},
   "source": [
    "## Show an example simulation"
   ]
  },
  {
   "cell_type": "code",
   "execution_count": null,
   "metadata": {},
   "outputs": [],
   "source": [
    "def show_example():\n",
    "    # Run\n",
    "    run = 'two species'\n",
    "\n",
    "    # Select snaps to plot\n",
    "    snap_slice = slice(None, None, 10)\n",
    "\n",
    "    # Select particles to plot\n",
    "    particle_slice = slice(None, None, 100)\n",
    "\n",
    "    # Load data\n",
    "    directory = pathlib.Path(f'~/runs/multigrain/dustywave/{run}').expanduser()\n",
    "    sim = plonk.load_sim(prefix='dustywave', directory=directory)\n",
    "    snaps = sim.snaps[snap_slice]\n",
    "    \n",
    "    initial_snap = sim.snaps[0]\n",
    "    initial_subsnaps = [initial_snap['gas']] + initial_snap['dust']\n",
    "\n",
    "    for idx, initial_subsnap in enumerate(initial_subsnaps):\n",
    "\n",
    "        # Plot range\n",
    "        x_range = (-0.5, 0.5)\n",
    "        vx_max = np.abs(initial_snap['velocity_x']).max() * 1.05\n",
    "        vx_range = (-vx_max, vx_max)\n",
    "        rho_mean = initial_subsnap['density'].mean()\n",
    "        rho_var = 1.5e-4\n",
    "        rho_range = (rho_mean * (1 - rho_var), rho_mean * (1 + rho_var))\n",
    "\n",
    "        # Generate figures\n",
    "        fig1 = figure(x_range=x_range, y_range=vx_range, plot_width=400, plot_height=400)\n",
    "        fig2 = figure(x_range=x_range, y_range=rho_range, plot_width=400, plot_height=400)\n",
    "\n",
    "        for snap, color in zip(snaps, inferno(len(snaps))):\n",
    "            subsnaps = [snap['gas']] + snap['dust']\n",
    "            subsnap = subsnaps[idx]\n",
    "            fig1.scatter(\n",
    "                subsnap['x'][particle_slice],\n",
    "                subsnap['velocity_x'][particle_slice],\n",
    "                line_color=color,\n",
    "                fill_color=color,\n",
    "                size=5\n",
    "            )\n",
    "            fig2.scatter(\n",
    "                subsnap['x'][particle_slice],\n",
    "                subsnap['density'][particle_slice],\n",
    "                line_color=color,\n",
    "                fill_color=color,\n",
    "                size=5\n",
    "            )\n",
    "\n",
    "        show(row(fig1, fig2))\n",
    "        \n",
    "show_example()"
   ]
  },
  {
   "cell_type": "markdown",
   "metadata": {},
   "source": [
    "## Do the analysis"
   ]
  },
  {
   "cell_type": "markdown",
   "metadata": {},
   "source": [
    "Path to data...."
   ]
  },
  {
   "cell_type": "code",
   "execution_count": null,
   "metadata": {},
   "outputs": [],
   "source": [
    "root_directory = pathlib.Path('~/runs/multigrain/dustywave').expanduser()\n",
    "paths = sorted(list(root_directory.glob('*')))"
   ]
  },
  {
   "cell_type": "markdown",
   "metadata": {},
   "source": [
    "Calculate $\\rho$ and $v_x$ at $x=0$ for each snapshot in each simulation. Each simulation has a data frame."
   ]
  },
  {
   "cell_type": "code",
   "execution_count": null,
   "metadata": {},
   "outputs": [],
   "source": [
    "A = 1e-4\n",
    "c_s = 1\n",
    "npartx = 128\n",
    "\n",
    "x_boxwidth = 1.0\n",
    "x_value = -0.5\n",
    "dx = x_boxwidth / npartx * 1.001\n",
    "\n",
    "(1.0, 0.1, 0.233333, 0.366667, 0.5)\n",
    "    \n",
    "def do_analysis(sim):\n",
    "    \n",
    "    n_snaps = len(sim.snaps)\n",
    "    n_species = len(sim.properties[\"grain_size\"]) + 1\n",
    "\n",
    "    time = sim.properties['time'].magnitude\n",
    "    rho = np.zeros((n_snaps, n_species))\n",
    "    vx = np.zeros((n_snaps, n_species))\n",
    "\n",
    "    rho_0 = np.zeros(n_species)\n",
    "    snap = sim.snaps[0]\n",
    "    for dust_type in range(n_species):\n",
    "        subsnap = snap[snap['sub_type'] == dust_type]\n",
    "        rho_0[dust_type] = subsnap['rho'].mean()\n",
    "        \n",
    "    for idx, snap in enumerate(sim.snaps):\n",
    "        position_mask = (snap['x'] < x_value + dx) | (snap['x'] > x_value + x_boxwidth - dx)\n",
    "        for dust_type in range(n_species):\n",
    "            species_mask = snap['sub_type'] == dust_type\n",
    "#            rho_0 = snap[species_mask]['rho'].mean()\n",
    "            subsnap = snap[position_mask & species_mask]\n",
    "            rho[idx, dust_type] = (subsnap[\"rho\"].mean() - rho_0[dust_type]) / (A * rho_0[dust_type])\n",
    "            vx[idx, dust_type] = subsnap[\"velocity_x\"].mean() / (A * c_s)\n",
    "\n",
    "    arrays = np.hstack((time[:, np.newaxis], rho, vx))\n",
    "    columns = (\n",
    "        [\"time\"]\n",
    "        + [f\"rho.{idx}\" for idx in range(n_species)]\n",
    "        + [f\"vx.{idx}\" for idx in range(n_species)]\n",
    "    )\n",
    "    \n",
    "    return pd.DataFrame(arrays, columns=columns)"
   ]
  },
  {
   "cell_type": "markdown",
   "metadata": {},
   "source": [
    "Loop over each simulation."
   ]
  },
  {
   "cell_type": "code",
   "execution_count": null,
   "metadata": {},
   "outputs": [],
   "source": [
    "dataframes = dict()\n",
    "\n",
    "for p in paths:\n",
    "    sim = plonk.load_sim(prefix=\"dustywave\", directory=p)\n",
    "    name = \"-\".join(sim.paths['directory'].name.split(\"=\")[-1].split(\"-\")[::-1])\n",
    "    print(f\"Analysis for {name}\")\n",
    "\n",
    "    dataframes[name] = do_analysis(sim)\n",
    "    del sim"
   ]
  },
  {
   "cell_type": "markdown",
   "metadata": {},
   "source": [
    "## Plot results"
   ]
  },
  {
   "cell_type": "markdown",
   "metadata": {},
   "source": [
    "Plot the gas density and velocity at $x=0$ for each run."
   ]
  },
  {
   "cell_type": "code",
   "execution_count": null,
   "metadata": {},
   "outputs": [],
   "source": [
    "def plot_gas():\n",
    "\n",
    "    x_range = 0.0, 2.0\n",
    "    y_range = -1, 1\n",
    "\n",
    "    p1 = figure(\n",
    "        title=\"Normalized gas density perturbation at x=0\",\n",
    "        x_range=x_range,\n",
    "        y_range=y_range,\n",
    "        plot_width=400,\n",
    "        plot_height=300,\n",
    "    )\n",
    "    p2 = figure(\n",
    "        title=\"Normalized gas velocity perturbation at x=0\",\n",
    "        x_range=x_range,\n",
    "        y_range=y_range,\n",
    "        plot_width=400,\n",
    "        plot_height=300,\n",
    "    )\n",
    "\n",
    "    colors = viridis(len(dataframes))\n",
    "\n",
    "    for (name, df), color in zip(dataframes.items(), colors):\n",
    "\n",
    "        x = np.array(df[\"time\"])\n",
    "        y = np.array(df[\"rho.0\"])\n",
    "        p1.circle(x, y, legend_label=name, line_color=color, fill_color=None)\n",
    "\n",
    "        y = np.array(df[\"vx.0\"])\n",
    "        p2.circle(x, y, legend_label=name, line_color=color, fill_color=None)\n",
    "\n",
    "    show(row(p1, p2))\n",
    "    \n",
    "plot_gas()"
   ]
  },
  {
   "cell_type": "markdown",
   "metadata": {},
   "source": [
    "Plot each species density and velocity."
   ]
  },
  {
   "cell_type": "code",
   "execution_count": null,
   "metadata": {},
   "outputs": [],
   "source": [
    "t_range = 0.0, 2.0\n",
    "rho_range = -1, 1\n",
    "vx_range = -1, 1\n",
    "\n",
    "ps1 = list()\n",
    "ps2 = list()\n",
    "\n",
    "colors = Category10[5]\n",
    "\n",
    "for run, df in dataframes.items():\n",
    "\n",
    "    n_species = len([col for col in df.columns if col.startswith('rho')])\n",
    "    \n",
    "    p1 = figure(\n",
    "        title=f\"Normalized density perturbation at x=0 for {run}\",\n",
    "        x_range=t_range,\n",
    "        y_range=rho_range,\n",
    "        plot_width=400,\n",
    "        plot_height=300,\n",
    "    )\n",
    "    p2 = figure(\n",
    "        title=f\"Normalized velocity perturbation at x=0 for {run}\",\n",
    "        x_range=t_range,\n",
    "        y_range=vx_range,\n",
    "        plot_width=400,\n",
    "        plot_height=300,\n",
    "    )\n",
    "\n",
    "    x = np.array(df[\"time\"])\n",
    "    \n",
    "\n",
    "    for idx in range(n_species):\n",
    "        legend_label = f\"dust {idx}\" if idx != 0 else \"gas\"\n",
    "        \n",
    "        y_numerical = np.array(df[f\"rho.{idx}\"])\n",
    "        if idx == 0:\n",
    "            y_exact = rho_g(time=x, omega=omega[n_species])\n",
    "        else:\n",
    "            y_exact = rho_d(time=x, omega=omega[n_species], tstop=tstop[n_species][idx-1])      \n",
    "\n",
    "        p1.line(x, y_exact, line_color=colors[idx])\n",
    "        p1.circle(x, y_numerical, line_color=colors[idx], fill_color=None)  # , legend_label=legend_label\n",
    "        \n",
    "        y_numerical = np.array(df[f\"vx.{idx}\"])\n",
    "        if idx == 0:\n",
    "            y_exact = v_g(time=x, omega=omega[n_species])\n",
    "        else:\n",
    "            y_exact = v_d(time=x, omega=omega[n_species], tstop=tstop[n_species][idx-1]) \n",
    "\n",
    "        p2.line(x, y_exact, line_color=colors[idx])\n",
    "        p2.circle(x, y_numerical, line_color=colors[idx], fill_color=None)  # , legend_label=legend_label\n",
    "\n",
    "    ps1.append(p1)\n",
    "    ps2.append(p2)\n",
    "\n",
    "grid = gridplot([ps2[1], ps2[0], ps1[1], ps1[0]] , ncols=2)\n",
    "show(grid)"
   ]
  }
 ],
 "metadata": {
  "kernelspec": {
   "display_name": "Python 3",
   "language": "python",
   "name": "python3"
  },
  "language_info": {
   "codemirror_mode": {
    "name": "ipython",
    "version": 3
   },
   "file_extension": ".py",
   "mimetype": "text/x-python",
   "name": "python",
   "nbconvert_exporter": "python",
   "pygments_lexer": "ipython3",
   "version": "3.8.2"
  }
 },
 "nbformat": 4,
 "nbformat_minor": 4
}
