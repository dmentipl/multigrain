{
 "cells": [
  {
   "cell_type": "markdown",
   "metadata": {},
   "source": [
    "# Radial drift"
   ]
  },
  {
   "cell_type": "markdown",
   "metadata": {},
   "source": [
    "## Imports"
   ]
  },
  {
   "cell_type": "code",
   "execution_count": null,
   "metadata": {},
   "outputs": [],
   "source": [
    "%load_ext autoreload\n",
    "%autoreload 2\n",
    "\n",
    "import sys\n",
    "from pathlib import Path\n",
    "\n",
    "%matplotlib widget\n",
    "import matplotlib.pyplot as plt\n",
    "import numpy as np\n",
    "from IPython.display import Video\n",
    "\n",
    "import plonk\n",
    "\n",
    "sys.path.insert(0, '../modules')\n",
    "from multigrain.radialdrift import generate_profiles, plot_radial_drift"
   ]
  },
  {
   "cell_type": "markdown",
   "metadata": {},
   "source": [
    "## Get data"
   ]
  },
  {
   "cell_type": "code",
   "execution_count": null,
   "metadata": {},
   "outputs": [],
   "source": [
    "_paths = Path('~/runs/multigrain/radialdrift').expanduser().glob('test*')\n",
    "paths = {p.name: p for p in _paths}\n",
    "sims = {name: plonk.load_sim('radialdrift', directory=path) for name, path in paths.items()}\n",
    "sims"
   ]
  },
  {
   "cell_type": "markdown",
   "metadata": {},
   "source": [
    "## Large grains only\n",
    "\n",
    "This test is labelled \"test1\"."
   ]
  },
  {
   "cell_type": "code",
   "execution_count": null,
   "metadata": {},
   "outputs": [],
   "source": [
    "sim = sims['test1']\n",
    "\n",
    "print('Grain sizes')\n",
    "print('-----------')\n",
    "for size in sim.properties['grain_size'].to('cm'):\n",
    "    print(f'{size:.1f}')"
   ]
  },
  {
   "cell_type": "markdown",
   "metadata": {},
   "source": [
    "### Last snap"
   ]
  },
  {
   "cell_type": "code",
   "execution_count": null,
   "metadata": {},
   "outputs": [],
   "source": [
    "snap = sim.snaps[150]\n",
    "try:\n",
    "    snap.extra_quantities()\n",
    "except ValueError:\n",
    "    pass\n",
    "\n",
    "print(f\"{snap.properties['time'].to('year'):.0f}\")"
   ]
  },
  {
   "cell_type": "markdown",
   "metadata": {},
   "source": [
    "Plot the gas density."
   ]
  },
  {
   "cell_type": "code",
   "execution_count": null,
   "metadata": {},
   "outputs": [],
   "source": [
    "plonk.visualize.plot(\n",
    "    snap=snap['gas'],\n",
    "    quantity='density',\n",
    "    extent=(-100, 100, -100, 100),\n",
    "    norm='log',\n",
    ")"
   ]
  },
  {
   "cell_type": "markdown",
   "metadata": {},
   "source": [
    "Plot the dust densities."
   ]
  },
  {
   "cell_type": "code",
   "execution_count": null,
   "metadata": {},
   "outputs": [],
   "source": [
    "fig, axs = plt.subplots(ncols=2, nrows=5, sharex=True, sharey=True, figsize=(10, 20))\n",
    "\n",
    "for idx, (subsnap, ax) in enumerate(zip(snap['dust'], axs.flatten())):\n",
    "    ax.set_title(f'Dust {idx+1}')\n",
    "    plonk.visualize.plot(\n",
    "        snap=subsnap,\n",
    "        quantity='density',\n",
    "        extent=(-100, 100, -100, 100),\n",
    "        norm='log',\n",
    "        ax=ax,\n",
    "    )"
   ]
  },
  {
   "cell_type": "markdown",
   "metadata": {},
   "source": [
    "### Radial drift velocities"
   ]
  },
  {
   "cell_type": "markdown",
   "metadata": {},
   "source": [
    "Generate profiles for gas and each dust species near the midplane."
   ]
  },
  {
   "cell_type": "code",
   "execution_count": null,
   "metadata": {},
   "outputs": [],
   "source": [
    "profs = generate_profiles(snap, midplane_height=1.0)"
   ]
  },
  {
   "cell_type": "markdown",
   "metadata": {},
   "source": [
    "Plot the radial drift profile."
   ]
  },
  {
   "cell_type": "code",
   "execution_count": null,
   "metadata": {},
   "outputs": [],
   "source": [
    "plot_radial_drift(profs)"
   ]
  },
  {
   "cell_type": "markdown",
   "metadata": {},
   "source": [
    "## Small and large grains\n",
    "\n",
    "This simulation is labelled \"test2\""
   ]
  },
  {
   "cell_type": "code",
   "execution_count": null,
   "metadata": {},
   "outputs": [],
   "source": [
    "sim = sims['test2']\n",
    "\n",
    "print('Grain sizes')\n",
    "print('-----------')\n",
    "for size in sim.properties['grain_size'].to('mm'):\n",
    "    print(f'{size:.1f}')"
   ]
  },
  {
   "cell_type": "markdown",
   "metadata": {},
   "source": [
    "### Last snap"
   ]
  },
  {
   "cell_type": "code",
   "execution_count": null,
   "metadata": {},
   "outputs": [],
   "source": [
    "snap = sim.snaps[-1]\n",
    "print(f\"{snap.properties['time'].to('year'):.0f}\")"
   ]
  },
  {
   "cell_type": "markdown",
   "metadata": {},
   "source": [
    "Plot the gas density."
   ]
  },
  {
   "cell_type": "code",
   "execution_count": null,
   "metadata": {},
   "outputs": [],
   "source": [
    "plonk.visualize.plot(\n",
    "    snap=snap['gas'],\n",
    "    quantity='density',\n",
    "    extent=(-100, 100, -100, 100),\n",
    "    norm='log',\n",
    ")"
   ]
  },
  {
   "cell_type": "markdown",
   "metadata": {},
   "source": [
    "Plot the dust densities."
   ]
  },
  {
   "cell_type": "code",
   "execution_count": null,
   "metadata": {},
   "outputs": [],
   "source": [
    "fig, axs = plt.subplots(ncols=2, nrows=5, sharex=True, sharey=True, figsize=(10, 20))\n",
    "\n",
    "for idx, (subsnap, ax) in enumerate(zip(snap['dust'], axs.flatten())):\n",
    "    ax.set_title(f'Dust {idx+1}')\n",
    "    plonk.visualize.plot(\n",
    "        snap=subsnap,\n",
    "        quantity='density',\n",
    "        extent=(-100, 100, -100, 100),\n",
    "        norm='log',\n",
    "        ax=ax,\n",
    "    )"
   ]
  },
  {
   "cell_type": "markdown",
   "metadata": {},
   "source": [
    "### Radial drift velocities"
   ]
  },
  {
   "cell_type": "markdown",
   "metadata": {},
   "source": [
    "Generate profiles for gas and each dust species near the midplane."
   ]
  },
  {
   "cell_type": "code",
   "execution_count": null,
   "metadata": {},
   "outputs": [],
   "source": [
    "profs = generate_profiles(snap, midplane_height=1.0)"
   ]
  },
  {
   "cell_type": "markdown",
   "metadata": {},
   "source": [
    "Plot the radial drift profile."
   ]
  },
  {
   "cell_type": "code",
   "execution_count": null,
   "metadata": {},
   "outputs": [],
   "source": [
    "plot_radial_drift(profs)"
   ]
  }
 ],
 "metadata": {
  "kernelspec": {
   "display_name": "Python 3",
   "language": "python",
   "name": "python3"
  },
  "language_info": {
   "codemirror_mode": {
    "name": "ipython",
    "version": 3
   },
   "file_extension": ".py",
   "mimetype": "text/x-python",
   "name": "python",
   "nbconvert_exporter": "python",
   "pygments_lexer": "ipython3",
   "version": "3.7.6"
  }
 },
 "nbformat": 4,
 "nbformat_minor": 4
}
