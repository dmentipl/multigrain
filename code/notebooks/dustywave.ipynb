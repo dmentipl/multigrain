{
 "cells": [
  {
   "cell_type": "markdown",
   "metadata": {},
   "source": [
    "# Dusty wave"
   ]
  },
  {
   "cell_type": "markdown",
   "metadata": {},
   "source": [
    "## Imports"
   ]
  },
  {
   "cell_type": "code",
   "execution_count": null,
   "metadata": {},
   "outputs": [],
   "source": [
    "%load_ext blackcellmagic"
   ]
  },
  {
   "cell_type": "code",
   "execution_count": null,
   "metadata": {},
   "outputs": [],
   "source": [
    "import itertools\n",
    "import pathlib\n",
    "\n",
    "import numpy as np\n",
    "import pandas as pd\n",
    "import plonk\n",
    "\n",
    "from bokeh.io import output_notebook, show\n",
    "from bokeh.layouts import gridplot, row\n",
    "from bokeh.palettes import inferno, viridis\n",
    "from bokeh.plotting import figure\n",
    "output_notebook()"
   ]
  },
  {
   "cell_type": "markdown",
   "metadata": {},
   "source": [
    "## Show an example simulation"
   ]
  },
  {
   "cell_type": "code",
   "execution_count": null,
   "metadata": {},
   "outputs": [],
   "source": [
    "# Run\n",
    "run = 'two species'\n",
    "\n",
    "# Select species\n",
    "dust_id = 1\n",
    "\n",
    "# Select snaps to plot\n",
    "snap_slice = slice(None, None, 5)\n",
    "\n",
    "# Select particles to plot\n",
    "particle_slice = slice(None, None, 1)\n",
    "\n",
    "# Load data\n",
    "directory = pathlib.Path(f'~/runs/multigrain/dustywave.fargo3d/{run}').expanduser()\n",
    "sim = plonk.load_sim(prefix='dustywave', directory=directory)\n",
    "initial_snap = sim.snaps[0]\n",
    "snaps = sim.snaps[snap_slice]\n",
    "\n",
    "# Plot range\n",
    "x_range = (-0.5, 0.5)\n",
    "vx_max = np.abs(initial_snap['vx']).max() * 1.05\n",
    "vx_range = (-vx_max, vx_max)\n",
    "subsnap = initial_snap[initial_snap['dust_id'] == dust_id]\n",
    "rho_mean = subsnap['rho'].mean()\n",
    "rho_var = 1.5e-4\n",
    "rho_range = (rho_mean * (1 - rho_var), rho_mean * (1 + rho_var))\n",
    "\n",
    "# Generate figures\n",
    "fig1 = figure(x_range=x_range, y_range=vx_range, plot_width=400, plot_height=400)\n",
    "fig2 = figure(x_range=x_range, y_range=rho_range, plot_width=400, plot_height=400)\n",
    "\n",
    "for snap, color in zip(snaps, inferno(len(snaps))):\n",
    "    subsnap = snap[snap['dust_id'] == dust_id]\n",
    "    fig1.scatter(\n",
    "        subsnap[\"x\"][particle_slice], subsnap[\"vx\"][particle_slice], line_color=color, fill_color=color, size=5\n",
    "    )\n",
    "    fig2.scatter(\n",
    "        subsnap[\"x\"][particle_slice], subsnap[\"rho\"][particle_slice], line_color=color, fill_color=color, size=5\n",
    "    )\n",
    "    \n",
    "show(row(fig1, fig2))"
   ]
  },
  {
   "cell_type": "markdown",
   "metadata": {},
   "source": [
    "## Do the analysis"
   ]
  },
  {
   "cell_type": "markdown",
   "metadata": {},
   "source": [
    "Path to data...."
   ]
  },
  {
   "cell_type": "code",
   "execution_count": null,
   "metadata": {},
   "outputs": [],
   "source": [
    "root_directory = pathlib.Path('~/runs/multigrain/dustywave.fargo3d').expanduser()\n",
    "paths = sorted(list(root_directory.glob('*')))"
   ]
  },
  {
   "cell_type": "markdown",
   "metadata": {},
   "source": [
    "Calculate $\\rho$ and $v_x$ at $x=0$ for each snapshot in each simulation. Each simulation has a data frame."
   ]
  },
  {
   "cell_type": "code",
   "execution_count": null,
   "metadata": {},
   "outputs": [],
   "source": [
    "A = 1e-4\n",
    "c_s = 1\n",
    "\n",
    "x_value = -0.5\n",
    "dx = 0.01\n",
    "\n",
    "def do_analysis(sim):\n",
    "    \n",
    "    n_snaps = len(sim.snaps)\n",
    "    n_species = len(sim.snaps[0].properties[\"grain size\"]) + 1\n",
    "\n",
    "    time = np.array([snap.properties[\"time\"] for snap in sim.snaps])\n",
    "    rho = np.zeros((n_snaps, n_species))\n",
    "    vx = np.zeros((n_snaps, n_species))\n",
    "\n",
    "    rho_0 = np.zeros(n_species)\n",
    "    snap = sim.snaps[0]\n",
    "    for dust_id in range(n_species):\n",
    "        subsnap = snap[snap['dust_id'] == dust_id]\n",
    "        rho_0[dust_id] = subsnap['rho'].mean()\n",
    "        \n",
    "    for idx, snap in enumerate(sim.snaps):\n",
    "        mask = (snap['x'] < x_value + dx) & (snap['x'] > x_value - dx)\n",
    "        for dust_id in range(n_species):\n",
    "            subsnap = snap[(snap[\"dust_id\"] == dust_id) & mask]\n",
    "            rho[idx, dust_id] = (subsnap[\"rho\"].mean() - rho_0[dust_id]) / (A * rho_0[dust_id])\n",
    "            vx[idx, dust_id] = subsnap[\"vx\"].mean() / (A * c_s)\n",
    "\n",
    "    arrays = np.hstack((time[:, np.newaxis], rho, vx))\n",
    "    columns = (\n",
    "        [\"time\"]\n",
    "        + [f\"rho.{idx}\" for idx in range(n_species)]\n",
    "        + [f\"vx.{idx}\" for idx in range(n_species)]\n",
    "    )\n",
    "    \n",
    "    return pd.DataFrame(arrays, columns=columns)"
   ]
  },
  {
   "cell_type": "markdown",
   "metadata": {},
   "source": [
    "Loop over each simulation."
   ]
  },
  {
   "cell_type": "code",
   "execution_count": null,
   "metadata": {},
   "outputs": [],
   "source": [
    "dataframes = dict()\n",
    "\n",
    "for p in paths:\n",
    "    sim = plonk.load_sim(prefix=\"dustywave\", directory=p)\n",
    "    name = \"-\".join(sim.path.name.split(\"=\")[-1].split(\"-\")[::-1])\n",
    "    print(f\"Analysis for {name}\")\n",
    "\n",
    "    dataframes[name] = do_analysis(sim)\n",
    "    del sim"
   ]
  },
  {
   "cell_type": "markdown",
   "metadata": {},
   "source": [
    "## Plot results"
   ]
  },
  {
   "cell_type": "markdown",
   "metadata": {},
   "source": [
    "Plot the gas density and velocity at $x=0$ for each run."
   ]
  },
  {
   "cell_type": "code",
   "execution_count": null,
   "metadata": {},
   "outputs": [],
   "source": [
    "x_range = 0.0, 2.0\n",
    "y_range = -1, 1\n",
    "\n",
    "p1 = figure(\n",
    "    title=\"Normalized gas density at x=0\",\n",
    "    x_range=x_range,\n",
    "    y_range=y_range,\n",
    "    plot_width=400,\n",
    "    plot_height=300,\n",
    ")\n",
    "p2 = figure(\n",
    "    title=\"Normalized gas velocity at x=0\",\n",
    "    x_range=x_range,\n",
    "    y_range=y_range,\n",
    "    plot_width=400,\n",
    "    plot_height=300,\n",
    ")\n",
    "\n",
    "colors = viridis(len(dataframes))\n",
    "\n",
    "for (name, df), color in zip(dataframes.items(), colors):\n",
    "\n",
    "    x = np.array(df[\"time\"])\n",
    "    y = np.array(df[\"rho.0\"])\n",
    "    p1.line(x, y, line_color=color)\n",
    "    p1.circle(x, y, legend_label=name, line_color=color, fill_color=None)\n",
    "\n",
    "    y = np.array(df[\"vx.0\"])\n",
    "    p2.line(x, y, line_color=color)\n",
    "    p2.circle(x, y, legend_label=name, line_color=color, fill_color=None)\n",
    "\n",
    "show(row(p1, p2))"
   ]
  },
  {
   "cell_type": "markdown",
   "metadata": {},
   "source": [
    "Plot each species density and velocity."
   ]
  },
  {
   "cell_type": "code",
   "execution_count": null,
   "metadata": {},
   "outputs": [],
   "source": [
    "t_range = 0.0, 2.0\n",
    "rho_range = -1, 1\n",
    "vx_range = -1, 1\n",
    "\n",
    "ps1 = list()\n",
    "ps2 = list()\n",
    "\n",
    "for run, df in dataframes.items():\n",
    "\n",
    "    n_species = len([col for col in df.columns if col.startswith('rho')])\n",
    "    colors = viridis(n_species)\n",
    "    \n",
    "    p1 = figure(\n",
    "        title=f\"Normalized density at x=0 for {run}\",\n",
    "        x_range=t_range,\n",
    "        y_range=rho_range,\n",
    "        plot_width=400,\n",
    "        plot_height=300,\n",
    "    )\n",
    "    p2 = figure(\n",
    "        title=f\"Normalized velocity at x=0 for {run}\",\n",
    "        x_range=t_range,\n",
    "        y_range=vx_range,\n",
    "        plot_width=400,\n",
    "        plot_height=300,\n",
    "    )\n",
    "\n",
    "    x = np.array(df[\"time\"])\n",
    "\n",
    "    for idx, color in enumerate(colors):\n",
    "        legend_label = f\"dust {idx}\" if idx != 0 else \"gas\"\n",
    "\n",
    "        y = np.array(df[f\"rho.{idx}\"])\n",
    "        p1.line(x, y, line_color=color)\n",
    "        p1.circle(x, y, legend_label=legend_label, line_color=color, fill_color=None)\n",
    "\n",
    "        y = np.array(df[f\"vx.{idx}\"])\n",
    "        p2.line(x, y, line_color=color)\n",
    "        p2.circle(x, y, legend_label=legend_label, line_color=color, fill_color=None)\n",
    "\n",
    "    ps1.append(p1)\n",
    "    ps2.append(p2)\n",
    "\n",
    "ps = list(itertools.chain(*zip(ps1, ps2)))\n",
    "grid = gridplot(ps, ncols=2)\n",
    "show(grid)"
   ]
  }
 ],
 "metadata": {
  "kernelspec": {
   "display_name": "Python 3",
   "language": "python",
   "name": "python3"
  },
  "language_info": {
   "codemirror_mode": {
    "name": "ipython",
    "version": 3
   },
   "file_extension": ".py",
   "mimetype": "text/x-python",
   "name": "python",
   "nbconvert_exporter": "python",
   "pygments_lexer": "ipython3",
   "version": "3.7.3"
  }
 },
 "nbformat": 4,
 "nbformat_minor": 4
}
