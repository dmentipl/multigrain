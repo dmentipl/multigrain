{
 "cells": [
  {
   "cell_type": "markdown",
   "metadata": {},
   "source": [
    "# Dusty shock\n",
    "\n",
    "This notebook contains analysis of the dusty shock test for multigrain dust."
   ]
  },
  {
   "cell_type": "code",
   "execution_count": null,
   "metadata": {},
   "outputs": [],
   "source": [
    "import pathlib\n",
    "import sys"
   ]
  },
  {
   "cell_type": "code",
   "execution_count": null,
   "metadata": {},
   "outputs": [],
   "source": [
    "%matplotlib widget\n",
    "import matplotlib.pyplot as plt\n",
    "import plonk\n",
    "from IPython.core.display import display, HTML"
   ]
  },
  {
   "cell_type": "code",
   "execution_count": null,
   "metadata": {},
   "outputs": [],
   "source": [
    "sys.path.insert(0, '../modules')\n",
    "from multigrain import dustyshock"
   ]
  },
  {
   "cell_type": "code",
   "execution_count": null,
   "metadata": {},
   "outputs": [],
   "source": [
    "def big_print(string, n=4):\n",
    "    display(HTML(f'<h{n}>{string}</h{n}>'))"
   ]
  },
  {
   "cell_type": "markdown",
   "metadata": {},
   "source": [
    "## Path to data\n",
    "\n",
    "Get the paths to each numerical experiment."
   ]
  },
  {
   "cell_type": "code",
   "execution_count": null,
   "metadata": {},
   "outputs": [],
   "source": [
    "root_directory = pathlib.Path('~/runs/multigrain/dustyshock/_fortran').expanduser()\n",
    "_paths = sorted(list(root_directory.glob('*')))\n",
    "paths = {p.name: p for p in _paths}\n",
    "paths"
   ]
  },
  {
   "cell_type": "markdown",
   "metadata": {},
   "source": [
    "## Show velocity and density\n",
    "\n",
    "Load simulation data for \"N=1\" simulation, i.e. gas with 1 dust species."
   ]
  },
  {
   "cell_type": "code",
   "execution_count": null,
   "metadata": {},
   "outputs": [],
   "source": [
    "sim = plonk.load_sim('dustyshock', directory=paths['N=1'])"
   ]
  },
  {
   "cell_type": "markdown",
   "metadata": {},
   "source": [
    "Set x-range and number of bins."
   ]
  },
  {
   "cell_type": "code",
   "execution_count": null,
   "metadata": {},
   "outputs": [],
   "source": [
    "xrange = (-50, 50)\n",
    "n_bins = 50"
   ]
  },
  {
   "cell_type": "markdown",
   "metadata": {},
   "source": [
    "### Initial conditions\n",
    "\n",
    "Plot the x-velocity and density for the gas and each dust species."
   ]
  },
  {
   "cell_type": "code",
   "execution_count": null,
   "metadata": {},
   "outputs": [],
   "source": [
    "snap = sim.snaps[0]\n",
    "big_print(f'Initial: time = {snap.properties[\"time\"]}')\n",
    "fig = dustyshock.plot_velocity_density(snap=snap, xrange=xrange, n_bins=n_bins)"
   ]
  },
  {
   "cell_type": "markdown",
   "metadata": {},
   "source": [
    "### Final time\n",
    "\n",
    "Plot the x-velocity and density for the gas and each dust species."
   ]
  },
  {
   "cell_type": "code",
   "execution_count": null,
   "metadata": {},
   "outputs": [],
   "source": [
    "snap = sim.snaps[-1]\n",
    "big_print(f'Final: time = {snap.properties[\"time\"]}')\n",
    "fig = dustyshock.plot_velocity_density(snap=snap, xrange=xrange, n_bins=n_bins)"
   ]
  },
  {
   "cell_type": "markdown",
   "metadata": {},
   "source": [
    "## Show particles\n",
    "\n",
    "Show particle positions in xy-plane."
   ]
  },
  {
   "cell_type": "code",
   "execution_count": null,
   "metadata": {},
   "outputs": [],
   "source": [
    "fig = dustyshock.plot_particle_arrangement(\n",
    "    snap=sim.snaps[0], xrange=xrange, fig_kwargs={'height': 2}, plot_kwargs={'ms': 1}\n",
    ")"
   ]
  },
  {
   "cell_type": "code",
   "execution_count": null,
   "metadata": {},
   "outputs": [],
   "source": [
    "fig = dustyshock.plot_particle_arrangement(\n",
    "    snap=sim.snaps[-1], xrange=xrange, fig_kwargs={'height': 2}, plot_kwargs={'ms': 1}\n",
    ")"
   ]
  }
 ],
 "metadata": {
  "kernelspec": {
   "display_name": "Python 3",
   "language": "python",
   "name": "python3"
  },
  "language_info": {
   "codemirror_mode": {
    "name": "ipython",
    "version": 3
   },
   "file_extension": ".py",
   "mimetype": "text/x-python",
   "name": "python",
   "nbconvert_exporter": "python",
   "pygments_lexer": "ipython3",
   "version": "3.8.2"
  }
 },
 "nbformat": 4,
 "nbformat_minor": 4
}
