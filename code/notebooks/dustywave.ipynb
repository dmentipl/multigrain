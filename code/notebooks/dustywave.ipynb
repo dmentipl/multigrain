{
 "cells": [
  {
   "cell_type": "markdown",
   "metadata": {},
   "source": [
    "# Dusty wave"
   ]
  },
  {
   "cell_type": "markdown",
   "metadata": {},
   "source": [
    "## Imports"
   ]
  },
  {
   "cell_type": "code",
   "execution_count": null,
   "metadata": {},
   "outputs": [],
   "source": [
    "%load_ext blackcellmagic"
   ]
  },
  {
   "cell_type": "code",
   "execution_count": null,
   "metadata": {},
   "outputs": [],
   "source": [
    "import pathlib\n",
    "\n",
    "import numpy as np\n",
    "import pandas as pd\n",
    "import plonk\n",
    "\n",
    "from bokeh.io import output_notebook, show\n",
    "from bokeh.palettes import inferno, viridis\n",
    "from bokeh.plotting import figure\n",
    "output_notebook()"
   ]
  },
  {
   "cell_type": "markdown",
   "metadata": {},
   "source": [
    "## Show an example simulation"
   ]
  },
  {
   "cell_type": "code",
   "execution_count": null,
   "metadata": {},
   "outputs": [],
   "source": [
    "directory = pathlib.Path('~/runs/multigrain/dustywave.stretch/Epstein-f=10.0-MRN').expanduser()\n",
    "sim = plonk.load_sim(prefix='dustywave', directory=directory)\n",
    "\n",
    "# Select snaps to plot\n",
    "snaps = sim.snaps[:10]\n",
    "\n",
    "# Select particles to plot\n",
    "s = slice(None, None, 1)\n",
    "\n",
    "# Plot range\n",
    "x_range = (-0.5, 0.5)\n",
    "\n",
    "vx_max = np.abs(sim.snaps[0]['vx']).max() * 1.05\n",
    "vx_range = (-vx_max, vx_max)\n",
    "\n",
    "rho_mean = sim.snaps[0]['gas']['rho'].mean()\n",
    "rho_var = 1e-4\n",
    "rho_range = (rho_mean * (1 - rho_var), rho_mean * (1 + rho_var))\n",
    "\n",
    "# Generate figures\n",
    "fig1 = figure(x_range=x_range, y_range=vx_range)\n",
    "fig2 = figure(x_range=x_range, y_range=rho_range)\n",
    "\n",
    "for snap, color in zip(snaps, inferno(len(snaps))):\n",
    "    fig1.scatter(\n",
    "        snap[\"x\"][s], snap[\"vx\"][s], line_color=color, fill_color=color, size=5\n",
    "    )\n",
    "    fig2.scatter(\n",
    "        snap[\"x\"][s], snap[\"rho\"][s], line_color=color, fill_color=color, size=5\n",
    "    )\n",
    "    \n",
    "show(fig1)\n",
    "show(fig2)"
   ]
  },
  {
   "cell_type": "markdown",
   "metadata": {},
   "source": [
    "## Do the analysis"
   ]
  },
  {
   "cell_type": "markdown",
   "metadata": {},
   "source": [
    "Path to data...."
   ]
  },
  {
   "cell_type": "code",
   "execution_count": null,
   "metadata": {},
   "outputs": [],
   "source": [
    "root_directory = pathlib.Path('~/runs/multigrain/dustywave.stretch').expanduser()\n",
    "paths = sorted(list(root_directory.glob('*')))"
   ]
  },
  {
   "cell_type": "markdown",
   "metadata": {},
   "source": [
    "Calculate $\\rho$ and $v_x$ at $x=0$ for each snapshot in each simulation. Each simulation has a data frame."
   ]
  },
  {
   "cell_type": "code",
   "execution_count": null,
   "metadata": {},
   "outputs": [],
   "source": [
    "A = 1e-4\n",
    "c_s = 1\n",
    "\n",
    "def do_analysis(sim):\n",
    "    \n",
    "    n_snaps = len(sim.snaps)\n",
    "    n_species = len(sim.snaps[0].properties[\"grain size\"]) + 1\n",
    "\n",
    "    time = np.array([snap.properties[\"time\"] for snap in sim.snaps])\n",
    "    rho = np.zeros((n_snaps, n_species))\n",
    "    vx = np.zeros((n_snaps, n_species))\n",
    "\n",
    "    rho_0 = np.zeros(n_species)\n",
    "    snap = sim.snaps[0]\n",
    "    for dust_id in range(n_dust + 1):\n",
    "        subsnap = snap[snap['dust_id'] == dust_id]\n",
    "        rho_0[dust_id] = subsnap['rho'].mean()\n",
    "        \n",
    "    for idx, snap in enumerate(sim.snaps):\n",
    "        mask = (np.abs(snap['x']) < 0.05)\n",
    "        for dust_id in range(n_dust + 1):\n",
    "            subsnap = snap[(snap[\"dust_id\"] == dust_id) & mask]\n",
    "            rho[idx, dust_id] = (subsnap[\"rho\"].mean() - rho_0[dust_id]) / (A * rho_0[dust_id])\n",
    "            vx[idx, dust_id] = subsnap[\"vx\"].mean() / (A * c_s)\n",
    "\n",
    "    arrays = np.hstack((time[:, np.newaxis], rho, vx))\n",
    "    columns = (\n",
    "        [\"time\"]\n",
    "        + [f\"rho.{idx}\" for idx in range(n_species)]\n",
    "        + [f\"vx.{idx}\" for idx in range(n_species)]\n",
    "    )\n",
    "\n",
    "    del sim\n",
    "    \n",
    "    return pd.DataFrame(arrays, columns=columns)"
   ]
  },
  {
   "cell_type": "markdown",
   "metadata": {},
   "source": [
    "Loop over each simulation."
   ]
  },
  {
   "cell_type": "code",
   "execution_count": null,
   "metadata": {},
   "outputs": [],
   "source": [
    "dataframes = dict()\n",
    "\n",
    "for p in paths:\n",
    "    \n",
    "    sim = plonk.load_sim(prefix=\"dustywave\", directory=p)\n",
    "    name = \"-\".join(sim.path.name.split(\"=\")[-1].split(\"-\")[::-1])\n",
    "    print(f\"Analysis for {name}\")\n",
    "\n",
    "    dataframes[name] = do_analysis(sim)"
   ]
  },
  {
   "cell_type": "code",
   "execution_count": null,
   "metadata": {},
   "outputs": [],
   "source": [
    "x_range = 0.0, 10.0\n",
    "y_range = -1, 1\n",
    "\n",
    "p1 = figure(title='Normalized density', x_range=x_range, y_range=y_range)\n",
    "p2 = figure(title='Normalized velocity', x_range=x_range, y_range=y_range)\n",
    "\n",
    "colors = viridis(len(dataframes))\n",
    "\n",
    "for df, color in zip(dataframes.values(), colors):\n",
    "    \n",
    "    x = np.array(df['time'])\n",
    "    y = np.array(df['rho.0'])\n",
    "    p1.line(x, y, line_color=color)\n",
    "    p1.circle(x, y, line_color=color, fill_color=None)\n",
    "    \n",
    "    y = np.array(df['vx.0'])\n",
    "    p2.line(x, y, line_color=color)\n",
    "    p2.circle(x, y, line_color=color, fill_color=None)\n",
    "\n",
    "show(p1)\n",
    "show(p2)"
   ]
  }
 ],
 "metadata": {
  "kernelspec": {
   "display_name": "Python 3",
   "language": "python",
   "name": "python3"
  },
  "language_info": {
   "codemirror_mode": {
    "name": "ipython",
    "version": 3
   },
   "file_extension": ".py",
   "mimetype": "text/x-python",
   "name": "python",
   "nbconvert_exporter": "python",
   "pygments_lexer": "ipython3",
   "version": "3.7.3"
  }
 },
 "nbformat": 4,
 "nbformat_minor": 4
}
